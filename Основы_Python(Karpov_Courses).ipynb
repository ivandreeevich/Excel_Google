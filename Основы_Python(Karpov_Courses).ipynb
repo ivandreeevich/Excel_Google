{
  "cells": [
    {
      "cell_type": "markdown",
      "metadata": {
        "id": "view-in-github",
        "colab_type": "text"
      },
      "source": [
        "<a href=\"https://colab.research.google.com/github/ivandreeevich/Excel_Google_tabs_course/blob/main/%D0%9E%D1%81%D0%BD%D0%BE%D0%B2%D1%8B_Python(Karpov_Courses).ipynb\" target=\"_parent\"><img src=\"https://colab.research.google.com/assets/colab-badge.svg\" alt=\"Open In Colab\"/></a>"
      ]
    },
    {
      "cell_type": "code",
      "execution_count": null,
      "id": "229d5a1a",
      "metadata": {
        "id": "229d5a1a",
        "outputId": "5cb96c44-bf75-4c76-8934-58b1c439510f"
      },
      "outputs": [
        {
          "data": {
            "text/plain": [
              "30"
            ]
          },
          "execution_count": 1,
          "metadata": {},
          "output_type": "execute_result"
        }
      ],
      "source": [
        "13 + 17"
      ]
    },
    {
      "cell_type": "code",
      "execution_count": null,
      "id": "3781c9ea",
      "metadata": {
        "id": "3781c9ea",
        "outputId": "3480a388-f5d8-4d42-e2ee-b15a21c92ec7"
      },
      "outputs": [
        {
          "data": {
            "text/plain": [
              "5"
            ]
          },
          "execution_count": 2,
          "metadata": {},
          "output_type": "execute_result"
        }
      ],
      "source": [
        "17 +- 12"
      ]
    },
    {
      "cell_type": "code",
      "execution_count": null,
      "id": "6048a77c",
      "metadata": {
        "id": "6048a77c"
      },
      "outputs": [],
      "source": [
        "my_name = \"Ivan\"\n",
        "my_age = 28"
      ]
    },
    {
      "cell_type": "code",
      "execution_count": null,
      "id": "458c9feb",
      "metadata": {
        "id": "458c9feb",
        "outputId": "c83e4409-1461-4d8f-d47c-10c226ec69d0"
      },
      "outputs": [
        {
          "name": "stdout",
          "output_type": "stream",
          "text": [
            "Ivan\n",
            "28\n"
          ]
        }
      ],
      "source": [
        "print(my_name)\n",
        "print(my_age)"
      ]
    },
    {
      "cell_type": "code",
      "execution_count": null,
      "id": "7a3917c1",
      "metadata": {
        "id": "7a3917c1"
      },
      "outputs": [],
      "source": [
        "my_name = \"Kira\"\n",
        "my_age = 25\n",
        "my_full_age = 25.65\n",
        "like_python = True"
      ]
    },
    {
      "cell_type": "code",
      "execution_count": null,
      "id": "6a850310",
      "metadata": {
        "id": "6a850310",
        "outputId": "b784e678-eaf7-4c53-fb03-1c7380080e84"
      },
      "outputs": [
        {
          "name": "stdout",
          "output_type": "stream",
          "text": [
            "Kira\n",
            "25\n",
            "25.65\n",
            "True\n"
          ]
        }
      ],
      "source": [
        "print(my_name)\n",
        "print(my_age)\n",
        "print(my_full_age)\n",
        "print(like_python)"
      ]
    },
    {
      "cell_type": "code",
      "execution_count": null,
      "id": "9b8b87fc",
      "metadata": {
        "id": "9b8b87fc",
        "outputId": "68d6224b-b320-4bbf-c6f8-43b5935a3a9e"
      },
      "outputs": [
        {
          "name": "stdout",
          "output_type": "stream",
          "text": [
            "Kira\n",
            "25\n"
          ]
        }
      ],
      "source": [
        "if like_python == True:\n",
        "    print(my_name)\n",
        "    print(my_age)"
      ]
    },
    {
      "cell_type": "code",
      "execution_count": null,
      "id": "ef781843",
      "metadata": {
        "id": "ef781843",
        "outputId": "3c3bd7f8-b0a5-4447-f197-d5050fe9275e"
      },
      "outputs": [
        {
          "name": "stdout",
          "output_type": "stream",
          "text": [
            "Kira\n",
            "25\n"
          ]
        }
      ],
      "source": [
        "if like_python:\n",
        "    print(my_name)\n",
        "    print(my_age)"
      ]
    },
    {
      "cell_type": "markdown",
      "id": "d95070cc",
      "metadata": {
        "id": "d95070cc"
      },
      "source": [
        "# ПЕРЕМЕННЫЕ И ОСНОВНЫЕ ТИПЫ ДАННЫХ"
      ]
    },
    {
      "cell_type": "markdown",
      "id": "78848111",
      "metadata": {
        "id": "78848111"
      },
      "source": [
        "##### Задача 1\n",
        "Давайте запрограммируем кота! Создайте три переменные: `cat_name`  со строкой как минимум из двух символов `cat_age` с неотрицательным числом `is_fluffy` с `True` или `False`\n",
        "Давайте начнем с создания переменных. Как мы уже выяснили в лекции, для создания переменных мы пишем название переменной, ставим знак равенства и пишем значение, которое мы хотим сохранить в переменную, например:\n",
        "\n",
        "* `my_name = 'Anatoly'`\n",
        "* `my_lovely_course_1 = 'Python'`\n",
        "* `has_cat = True`\n",
        "* `cat_age = 12`\n",
        "\n",
        "При выборе имени переменной давайте придерживаться определенных правил, чтобы наш код выполнялся без ошибок и его было удобно читать:\n",
        "\n",
        "* имя переменной начинается с буквы;\n",
        "* для имен переменных будем использовать маленькие буквы с подчеркиванием вместо пробела;\n",
        "* имя переменной не должно совпадать с названием ключевых слов языка Python. * Например, назвать переменную `if` или `True` — плохая идея. Ключевых слов не так много, с частью из них мы скоро познакомимся.\n",
        "\n",
        "\n",
        "**Задание:**\n",
        "\n",
        "Давайте запрограммируем кота! Создайте три переменные:\n",
        "* `cat_name`  со строкой как минимум из двух символов\n",
        "* `cat_age` с неотрицательным числом\n",
        "* `is_fluffy` с `True` или `False`\n",
        "\n"
      ]
    },
    {
      "cell_type": "code",
      "execution_count": null,
      "id": "8b2bcc5e",
      "metadata": {
        "id": "8b2bcc5e",
        "outputId": "7ee34a3e-6edf-48af-cdd0-457abbff3b8d"
      },
      "outputs": [
        {
          "name": "stdout",
          "output_type": "stream",
          "text": [
            "['False', 'None', 'True', 'and', 'as', 'assert', 'async', 'await', 'break', 'class', 'continue', 'def', 'del', 'elif', 'else', 'except', 'finally', 'for', 'from', 'global', 'if', 'import', 'in', 'is', 'lambda', 'nonlocal', 'not', 'or', 'pass', 'raise', 'return', 'try', 'while', 'with', 'yield']\n"
          ]
        }
      ],
      "source": [
        "import keyword\n",
        "print(keyword.kwlist)"
      ]
    },
    {
      "cell_type": "code",
      "execution_count": null,
      "id": "f01f5b11",
      "metadata": {
        "id": "f01f5b11"
      },
      "outputs": [],
      "source": [
        "#Задане_запрограмируем_кота\n",
        "\n",
        "cat_name = \"Robert\" #кличка_кота\n",
        "cat_age = 11        #возраст_кота\n",
        "is_fluffy = True    #кот_пушистый?"
      ]
    },
    {
      "cell_type": "code",
      "execution_count": null,
      "id": "b3f4c261",
      "metadata": {
        "id": "b3f4c261",
        "outputId": "a51a182e-1615-440a-a394-5bedc267bbc1"
      },
      "outputs": [
        {
          "name": "stdout",
          "output_type": "stream",
          "text": [
            "Robert\n",
            "11\n",
            "True\n"
          ]
        }
      ],
      "source": [
        "print(cat_name)\n",
        "print(cat_age)\n",
        "print(is_fluffy)"
      ]
    },
    {
      "cell_type": "code",
      "execution_count": null,
      "id": "626c9ec3",
      "metadata": {
        "id": "626c9ec3"
      },
      "outputs": [],
      "source": [
        "#задание_написать_программу_для_поиска_гипотенузы\n",
        "\n",
        "a = 3 #катет_треуголника\n",
        "b = 4 #катет_треуголника\n",
        "c = (a**2 + b**2)**0.5"
      ]
    },
    {
      "cell_type": "code",
      "execution_count": null,
      "id": "c6047cdc",
      "metadata": {
        "id": "c6047cdc",
        "outputId": "e2bc322b-5237-4c00-cfc8-d1bdf84342fc"
      },
      "outputs": [
        {
          "name": "stdout",
          "output_type": "stream",
          "text": [
            "5.0\n"
          ]
        }
      ],
      "source": [
        "print(c)"
      ]
    },
    {
      "cell_type": "markdown",
      "id": "27654ec2",
      "metadata": {
        "id": "27654ec2"
      },
      "source": [
        "##### Задача 2\n",
        "Давайте напишем программу для поиска длины гипотенузы. В переменных `a` и `b` уже записаны длины катетов прямоугольного треугольника. Создайте новую переменную `c` и сохраните в нее длину гипотенузы этого треугольника."
      ]
    },
    {
      "cell_type": "code",
      "execution_count": null,
      "id": "c17baeff",
      "metadata": {
        "id": "c17baeff",
        "outputId": "8db897b2-d665-4209-9530-2c879fea593c"
      },
      "outputs": [
        {
          "name": "stdout",
          "output_type": "stream",
          "text": [
            "10.0\n"
          ]
        }
      ],
      "source": [
        "#задание_написать_программу_для_поиска_гипотенузы\n",
        "\n",
        "a = 6 #катет_треуголника\n",
        "b = 8 #катет_треуголника\n",
        "c = (a**2 + b**2)**0.5\n",
        "\n",
        "print(c)"
      ]
    },
    {
      "cell_type": "markdown",
      "id": "67c4b4d4",
      "metadata": {
        "id": "67c4b4d4"
      },
      "source": [
        "##### Задача 3\n",
        "В переменной `father_age` хранится возраст отца, а в переменной `son_age` — возраст сына. Посчитайте, через сколько лет отец будет вдвое старше сына. Результат сохраните в переменную `result`."
      ]
    },
    {
      "cell_type": "code",
      "execution_count": null,
      "id": "e0d3f936",
      "metadata": {
        "id": "e0d3f936",
        "outputId": "53aad05b-6fd7-4c4b-fb2f-1a7f66467304"
      },
      "outputs": [
        {
          "name": "stdout",
          "output_type": "stream",
          "text": [
            "13\n"
          ]
        }
      ],
      "source": [
        "father_age = 23\n",
        "son_age = 5\n",
        "result = (father_age - 2*son_age)\n",
        "\n",
        "print(result)"
      ]
    },
    {
      "cell_type": "markdown",
      "id": "0be1fd87",
      "metadata": {
        "id": "0be1fd87"
      },
      "source": [
        "##### Задача 4\n",
        "Заданы вещественные числа `a, b и с` – стороны треугольника. Вычислите периметр и площадь треугольника. Результат сохраните в переменные `perimeter` и `area` соответственно."
      ]
    },
    {
      "cell_type": "code",
      "execution_count": null,
      "id": "a6e5cb74",
      "metadata": {
        "id": "a6e5cb74",
        "outputId": "6b4d1a50-f7c5-4a65-813a-5e16a51ff8c5"
      },
      "outputs": [
        {
          "name": "stdout",
          "output_type": "stream",
          "text": [
            "6.0\n",
            "6.0\n"
          ]
        }
      ],
      "source": [
        "a = 3\n",
        "b = 4\n",
        "c = 5\n",
        "p = (a + b + c) / 2\n",
        "s = (p*(p-a)*(p-b)*(p-c))**0.5\n",
        "\n",
        "print(p)\n",
        "print(s)\n"
      ]
    },
    {
      "cell_type": "code",
      "execution_count": null,
      "id": "76cd1673",
      "metadata": {
        "id": "76cd1673",
        "outputId": "9757aec7-3997-42c3-8552-a8a9be197298"
      },
      "outputs": [
        {
          "name": "stdout",
          "output_type": "stream",
          "text": [
            "12\n",
            "6.0\n"
          ]
        }
      ],
      "source": [
        "a = 3\n",
        "b = 4\n",
        "c = 5\n",
        "perimeter = (a + b + c)\n",
        "area = (perimeter/2*(perimeter/2-a)*(perimeter/2-b)*(perimeter/2-c))**0.5\n",
        "\n",
        "print(perimeter)\n",
        "print(area)"
      ]
    },
    {
      "cell_type": "markdown",
      "id": "bbadbbc0",
      "metadata": {
        "id": "bbadbbc0"
      },
      "source": [
        "##### Задача 5\n",
        "В переменную n сохранено целое число — количество секунд. Напишите программу, которая конвертирует заданное количество секунд n в часы, минуты и секунды. Результат сохраните в переменные `hours, minutes, seconds`.То есть сначала нужно посчитать, сколько в число `n` поместилось целых часов, целых минут и сколько после этого осталось секунд."
      ]
    },
    {
      "cell_type": "code",
      "execution_count": null,
      "id": "010ac6a4",
      "metadata": {
        "id": "010ac6a4",
        "outputId": "15841bdf-e416-44bf-e4ad-3fdb8e29e1c8"
      },
      "outputs": [
        {
          "name": "stdout",
          "output_type": "stream",
          "text": [
            "6\n",
            "36\n",
            "50\n"
          ]
        }
      ],
      "source": [
        "n = 23810\n",
        "\n",
        "hours = n//3600\n",
        "minutes = n//60%60\n",
        "seconds = n%60\n",
        "\n",
        "print(hours)\n",
        "print(minutes)\n",
        "print(seconds)"
      ]
    },
    {
      "cell_type": "markdown",
      "id": "446b4489",
      "metadata": {
        "id": "446b4489"
      },
      "source": [
        "##### Задача 6\n",
        "В переменной `price_new` хранится цена килограмма бананов в числовом формате, а в переменной `price_old` — цена килограмма бананов год назад. Вычислите, на сколько процентов по модулю изменилась цена за год. Результат сохраните в переменную `result`. Результат округлите до двух знаков после запятой."
      ]
    },
    {
      "cell_type": "code",
      "execution_count": null,
      "id": "073c9ea1",
      "metadata": {
        "id": "073c9ea1",
        "outputId": "1fcceec3-a308-447e-faac-1dcdbeb5c5e3"
      },
      "outputs": [
        {
          "name": "stdout",
          "output_type": "stream",
          "text": [
            "42.55\n"
          ]
        }
      ],
      "source": [
        "price_new = 54\n",
        "price_old = 94\n",
        "procents = ((price_new - price_old)/(price_old / 100))\n",
        "result = abs(round(procents,2))\n",
        "\n",
        "print((result))"
      ]
    },
    {
      "cell_type": "markdown",
      "id": "2f5c4dd9",
      "metadata": {
        "id": "2f5c4dd9"
      },
      "source": [
        "##### Задача 7\n",
        "В Python мы можем изменять тип данных, которые хранятся в нашей переменной. Такая операция называется преобразованием типов. Для преобразования типов Python предоставляет ряд встроенных функций:\n",
        "\n",
        "* `int()`: преобразует значение в целое число\n",
        "* `float()`: преобразует значение в число с плавающей точкой\n",
        "* `str()`: преобразует значение в строку\n",
        "* `bool()`: преобразует в логический тип\n",
        "\n",
        "**Задание:**\n",
        "\n",
        "Создайте переменные:\n",
        "* `a` со значением `5` типа `int`,\n",
        "* `b` со значением `\"10\"` типа `str`,\n",
        "* `c` со значением `True` типа `bool`.\n",
        "В переменную `my_sum` сохраните сумму трех переменных, которые вы создали, преобразовав `b` и `с` к типу `int`."
      ]
    },
    {
      "cell_type": "code",
      "execution_count": null,
      "id": "abb1b35e",
      "metadata": {
        "id": "abb1b35e",
        "outputId": "2c49b678-2f99-47ce-dd8e-e357ce713006"
      },
      "outputs": [
        {
          "name": "stdout",
          "output_type": "stream",
          "text": [
            "5\n",
            "10\n",
            "True\n",
            "16\n"
          ]
        }
      ],
      "source": [
        "a = int(5)\n",
        "b = str(10)\n",
        "c = bool(True)\n",
        "my_sum = a + int(b) + int(c)\n",
        "\n",
        "print(a)\n",
        "print(b)\n",
        "print(c)\n",
        "print(my_sum)"
      ]
    },
    {
      "cell_type": "markdown",
      "id": "0f0edf5d",
      "metadata": {
        "id": "0f0edf5d"
      },
      "source": [
        "##### Задача 8\n",
        "\n",
        "В переменной `a` сохранено число с десятичной частью но в формате строки, например `'3.14'`. В переменную `с` сохраните целую часть из числа в переменной `a`."
      ]
    },
    {
      "cell_type": "code",
      "execution_count": null,
      "id": "ded25037",
      "metadata": {
        "id": "ded25037",
        "outputId": "3405a1bf-b6e2-4618-c595-81a7f96fb82f"
      },
      "outputs": [
        {
          "name": "stdout",
          "output_type": "stream",
          "text": [
            "5\n"
          ]
        }
      ],
      "source": [
        "a = str(a)\n",
        "c = int(float(a))\n",
        "\n",
        "print(c)"
      ]
    },
    {
      "cell_type": "markdown",
      "id": "05f0e4e0",
      "metadata": {
        "id": "05f0e4e0"
      },
      "source": [
        "##### Задача 9\n",
        "В переменной `х` уже сохранено целое положительное число. Вычислите `x + x0x0x`. Результат сохраните в переменную `result`.\n",
        "\n",
        "То есть, если `x = 2`, то нужно вычислить `2 + 20202`."
      ]
    },
    {
      "cell_type": "code",
      "execution_count": null,
      "id": "787cdd53",
      "metadata": {
        "id": "787cdd53",
        "outputId": "c156bedd-58c4-448f-a3eb-8f48edaaa511"
      },
      "outputs": [
        {
          "name": "stdout",
          "output_type": "stream",
          "text": [
            "10010020\n"
          ]
        }
      ],
      "source": [
        "x = 10\n",
        "x0x0x = int(str(x) + \"0\" + str(x) +\"0\"+ str(x))\n",
        "result = x + x0x0x\n",
        "\n",
        "print(result)"
      ]
    },
    {
      "cell_type": "markdown",
      "id": "c9de264c",
      "metadata": {
        "id": "c9de264c"
      },
      "source": [
        "##### Задача 10\n",
        "\n",
        "Переменные и значения можно сравнивать между собой при помощи операций сравнения:\n",
        "\n",
        "* `x < y — x строго меньше y,`\n",
        "* `x <= y — x меньше или равно y,`\n",
        "* `x > y — x строго больше y,`\n",
        "* `x >= y — x больше или равно y,`\n",
        "* `x == y — x равно y,`\n",
        "* `x != y — x не равно y.`\n",
        "\n",
        "Сравнивать можно и числа, и строки. Результат сравнения — это `True` или `False`, в зависимости от того, верное или неверное выражение написано. Со сравнением чисел все понятно:\n",
        "\n",
        "* `3 > 2 # True`\n",
        "* `3 < -5 # False`\n",
        "* `5 != 6 # пять не равно шести, это правда, поэтому здесь получаем True`\n",
        "* `10 == 10 #True`\n",
        "\n",
        "Сравнение строк устроено чуть хитрее. Начнем с простого и рассмотрим сравнение двух одинаковых строк: `'abc' == 'abc'` вернет нам `True`. Давайте теперь разберемся, почему `'abc' > 'aba'` вернет нам `True`. Сравнение строк в Python происходит лексикографически, то есть посимвольно слева направо. Если символы совпадают, то Python переходит к следующему символу в строке и продолжает сравнение до тех пор, пока не найдет отличие между символами в строке. Если символы в строках различаются, то Python определяет, какая строка \"больше\" (по алфавиту, в прямом смысле по номеру в алфавите). Если символы до данной позиции совпадают, то строка, у которой следующий символ больше, считается \"большей\". При этом, если буквы совпадают, то также учитывается размер, маленькая буква больше большой `'a' > 'A'` . Рассмотрим примеры:\n",
        "\n",
        "* `str1 = 'hello'`\n",
        "* `str2 = 'world'`\n",
        "* `result = str1 < str2`\n",
        "* `print(result)`\n",
        "\n",
        "**В результате будет значение True, так как код символа `'h'` меньше, чем код символа `'w'`**\n",
        "\n",
        "* `str1 = 'apple'`\n",
        "* `str2 = 'banana'`\n",
        "* `result = str1 > str2`\n",
        "* `print(result)`\n",
        "\n",
        "**В результате будет значение `False`, так как первый символ `'a'` меньше, чем первый символ `'b'`**\n",
        "\n",
        "* `str1 = 'abc'`\n",
        "* `str2 = 'aba'`\n",
        "* `result = str1 > str2`\n",
        "* `print(result)`\n",
        "\n",
        "**В результате будет значение `True`, так как последний символ `'с'`больше, чем символ `'a'`**\n"
      ]
    },
    {
      "cell_type": "markdown",
      "id": "45b013c8",
      "metadata": {
        "id": "45b013c8"
      },
      "source": [
        "**Задание:**\n",
        "\n",
        "Укажите все сравнения, в результате которых мы получим True.\n",
        "- [x] 'ИВАН' < 'иван'\n",
        "- [x] 'Python' < 'R'\n",
        "- [x] 'big number' != 'bug number'\n",
        "- [ ] 'ЯЯЯ' == 'Я Я'\n",
        "- [ ] 'игра' >= 'икра'"
      ]
    },
    {
      "cell_type": "markdown",
      "id": "ca3b81dc",
      "metadata": {
        "id": "ca3b81dc"
      },
      "source": [
        "##### Задача 11\n",
        "\n",
        "При работе с логическими условиями можем использовать логические операции `AND`, `OR` и `NOT`.\n",
        "\n",
        "1. Оператор `AND` — возвращает `True`, если оба выражения верные, и `False` в противном случае.\n",
        "\n",
        "* `a = 5`\n",
        "* `b = 10`\n",
        "* `c = 15`\n",
        "\n",
        "`print(a < b and b < c) # вернет True, оба условия выполнились`\n",
        "\n",
        "`print(a < b and b > c) # вернет False, одно уcловие не выполнилось`\n",
        "\n",
        "2. Оператор `OR` — возвращает `True`, если хотя бы одно из выражений истинное, и `False` в противном случае.\n",
        "\n",
        "`age = 17`\n",
        "\n",
        "* `print(age < 18 or age > 60) # вернет True, первое уcловие выполнилось`\n",
        "\n",
        "* `print(age < 16 or age > 60) # вернет False, ни одно уcловие не выполнилось`  \n",
        "\n",
        "3. Оператор `NOT` — инвертирует логическое выражение. Если выражение истинное, то результат будет `False`, и наоборот.\n",
        "\n",
        "`s_admin = True`\n",
        "\n",
        "* `print(not is_admin) # вернет False`\n",
        "\n",
        "**Задача:**\n",
        "\n",
        "В переменной `m` хранится целое положительное число — продолжительность сна в минутах. Если продолжительность сна составит от 7 до 9 часов включительно, то в переменную `optimal_sleep_duration` сохраните значение `True`. В противном случае присвойте это переменной значение `False`.\n",
        "\n",
        "**Пример:**\n",
        "\n",
        "`m = 410`  \n",
        "\n",
        "`optimal_sleep_duration = False`\n",
        "\n",
        "`m = 500`\n",
        "\n",
        "`optimal_sleep_duration = True`"
      ]
    },
    {
      "cell_type": "code",
      "execution_count": null,
      "id": "23f1e73c",
      "metadata": {
        "id": "23f1e73c",
        "outputId": "b099144b-903a-40b5-8f0f-a696c808e1e4"
      },
      "outputs": [
        {
          "name": "stdout",
          "output_type": "stream",
          "text": [
            "True\n"
          ]
        }
      ],
      "source": [
        "m = 500\n",
        "optimal_sleep_duration = ( m / 60 >= 7 and m / 60 <= 9 )\n",
        "print(optimal_sleep_duration )"
      ]
    },
    {
      "cell_type": "markdown",
      "id": "dea41f3a",
      "metadata": {
        "id": "dea41f3a"
      },
      "source": [
        "##### Задача 12\n",
        "\n",
        "В переменной x хранится целое число. Проверьте, делится ли это число без остатка на 3 и на 7. Результат сохраните в переменную `result`. Переменная `result` должна иметь логический тип данных.\n",
        "\n",
        "`Если x = 7, то  result = False. Если x = 21, то result = True.`"
      ]
    },
    {
      "cell_type": "code",
      "execution_count": null,
      "id": "55b972f7",
      "metadata": {
        "id": "55b972f7",
        "outputId": "65776845-2559-4806-c69a-8db0389a3fcd"
      },
      "outputs": [
        {
          "name": "stdout",
          "output_type": "stream",
          "text": [
            "True\n"
          ]
        }
      ],
      "source": [
        "x = 21\n",
        "result = ( x % 3 == 0 and x % 7 == 0)\n",
        "print(result)"
      ]
    },
    {
      "cell_type": "markdown",
      "id": "a11cee07",
      "metadata": {
        "id": "a11cee07"
      },
      "source": [
        "##### Задача 13\n",
        "\n",
        "**Хорошо ли вы умеете пользоваться логическим типом данных? Сопоставьте выражения и их значения.**\n",
        "* `a = False - True`      # ответ: 0-1=-1\n",
        "* `b = True + 0`           # ответ: 1+0 =1\n",
        "* `c = bool(False + 1)` # ответ: bool(0+1)=True  \n",
        "* `d = True + 0.1`        # ответ:  1+0.1=1.1\n",
        "* `e = True ** 0.5`       # ответ:  корень из 1 = 1  \n",
        "* `f = False ** True`    # ответ:  0 в степени 1 = 0\n",
        "* `g = 2 == True`        # ответ: значение равно 2, а должно было быть 1, значит ответ False"
      ]
    },
    {
      "cell_type": "markdown",
      "id": "99811f3e",
      "metadata": {
        "id": "99811f3e"
      },
      "source": [
        "##### Задача 14\n",
        "\n",
        "Мы уже знаем, что для создания строки достаточно использовать двойные или одинарные кавычки. Все, что находится внутри ковычек, будет восприниматься как строка.\n",
        "\n",
        "*`string1 = 'Hello, world!'`\n",
        "*`string2 = \"I'm a Python developer.\"`\n",
        "\n",
        "Если мы выведем string1 и string2 на печать при помощи функции print(), то увидим на экране все символы, которые мы поместили внутри ковычек. Но это не всегда так. В Python, как и в большинстве языков программирования, в строках могут быть использованы специальные символы. Они называются экранированными последовательностями.\n",
        "\n",
        "Вот некоторые из наиболее часто используемых экранированных последовательностей в Python:\n",
        "\n",
        "* `\\n — перенос строки`\n",
        "\n",
        "* `\\t — табуляция`  \n",
        "\n",
        "* `\\' — одинарная кавычка`\n",
        "\n",
        "* `\\\" — двойная кавычка`\n",
        "\n",
        "* `\\\\ — обратный слеш`\n",
        "\n",
        "**Разберем их использование сразу на примере. Напечатайте при помощи print() строку:**\n",
        "\n",
        "`string1 = '\\'Манчестер Юнайтед\\' - чемпион Англии!\\n2013'\n",
        "print(string1)`\n",
        "\n",
        "Таким образом, когда в строке появляется обратный слэш \\, программа ожидает после него специальный символ. Сам обратный слэш не выводится на печать. А символ после слэша уже интерпретируется, например, как перенос строки или отступ. Посмотрите еще примеры:\n",
        "\n",
        "* `print(\"Hello\\nworld!\")`\n",
        "* `print(\"C:\\\\Users\\\\user\\\\Desktop\\\\file.txt\")`\n",
        "* `print(\"Name:\\tJohn\")`\n",
        "* `print('It\\'s a beautiful day!')`\n",
        "* `print(\"It's a beautiful day!\") # так тоже можно`\n",
        "\n",
        "**Задание:**\n",
        "\n",
        "Сохраните в переменную square строку, которая выводит на экран прямоугольник 4 х 4, сформированный из звездочек, разделенных пробелом.\n",
        "\n"
      ]
    },
    {
      "cell_type": "code",
      "execution_count": null,
      "id": "e543a20d",
      "metadata": {
        "id": "e543a20d",
        "outputId": "6085a069-d49c-4dee-a89b-d3784204e6c4"
      },
      "outputs": [
        {
          "name": "stdout",
          "output_type": "stream",
          "text": [
            "Hello\n",
            "world!\n",
            "C:\\Users\\user\\Desktop\\file.txt\n",
            "Name:\tJohn\n",
            "It's a beautiful day!\n",
            "It's a beautiful day!\n"
          ]
        }
      ],
      "source": [
        "print(\"Hello\\nworld!\")\n",
        "print(\"C:\\\\Users\\\\user\\\\Desktop\\\\file.txt\")\n",
        "print(\"Name:\\tJohn\")\n",
        "print('It\\'s a beautiful day!')\n",
        "print(\"It's a beautiful day!\")"
      ]
    },
    {
      "cell_type": "code",
      "execution_count": null,
      "id": "b6fbdaed",
      "metadata": {
        "id": "b6fbdaed",
        "outputId": "36a943a5-5902-48e4-85c9-9d20c91e9023"
      },
      "outputs": [
        {
          "name": "stdout",
          "output_type": "stream",
          "text": [
            "* * * *\n",
            "* * * *\n",
            "* * * *\n",
            "* * * *\n",
            "\n"
          ]
        }
      ],
      "source": [
        "square = \"* * * *\\n* * * *\\n* * * *\\n* * * *\\n\"\n",
        "print(square)"
      ]
    },
    {
      "cell_type": "markdown",
      "id": "618ef6ab",
      "metadata": {
        "id": "618ef6ab"
      },
      "source": [
        "# СПИСКИ И МНОЖЕСТВА"
      ]
    },
    {
      "cell_type": "code",
      "execution_count": null,
      "id": "d46ef014",
      "metadata": {
        "id": "d46ef014"
      },
      "outputs": [],
      "source": [
        "student_1 = \"Ivan\"\n",
        "student_2 = \"Nikita\"\n",
        "student_3 = \"Petr\""
      ]
    },
    {
      "cell_type": "code",
      "execution_count": null,
      "id": "3cb23455",
      "metadata": {
        "id": "3cb23455"
      },
      "outputs": [],
      "source": [
        "python_students = [student_1, student_2, student_3] #СПИСОК ОБРОМЛЯЕТСЯ В КВАДРАТНЫЕ СКОБКИ"
      ]
    },
    {
      "cell_type": "code",
      "execution_count": null,
      "id": "d9f3ea17",
      "metadata": {
        "id": "d9f3ea17",
        "outputId": "c145989a-8b3b-4948-c478-53c20bf39ab1"
      },
      "outputs": [
        {
          "data": {
            "text/plain": [
              "['Ivan', 'Nikita', 'Petr']"
            ]
          },
          "execution_count": 29,
          "metadata": {},
          "output_type": "execute_result"
        }
      ],
      "source": [
        "python_students"
      ]
    },
    {
      "cell_type": "code",
      "execution_count": null,
      "id": "ca9b7dcf",
      "metadata": {
        "id": "ca9b7dcf"
      },
      "outputs": [],
      "source": [
        "my_list = [ 1, 2, 3, \"hi\", True] # список внутри себя может содержать другие типы данных"
      ]
    },
    {
      "cell_type": "code",
      "execution_count": null,
      "id": "95d734be",
      "metadata": {
        "id": "95d734be",
        "outputId": "587b77b9-671f-4ae1-f7a9-1502c361da61"
      },
      "outputs": [
        {
          "data": {
            "text/plain": [
              "[1, 2, 3, 'hi', True]"
            ]
          },
          "execution_count": 31,
          "metadata": {},
          "output_type": "execute_result"
        }
      ],
      "source": [
        "my_list"
      ]
    },
    {
      "cell_type": "code",
      "execution_count": null,
      "id": "26d8a08a",
      "metadata": {
        "id": "26d8a08a"
      },
      "outputs": [],
      "source": [
        "student_1 = \"Ivan\"\n",
        "student_2 = \"Nikita\"\n",
        "student_3 = \"Petr\"\n",
        "student_4 = \"Ignat\"\n",
        "student_5 = \"Dima\"\n",
        "student_6 = \"Pavel\""
      ]
    },
    {
      "cell_type": "code",
      "execution_count": null,
      "id": "86406d0f",
      "metadata": {
        "id": "86406d0f"
      },
      "outputs": [],
      "source": [
        "sql_students = [student_1, student_2, student_3, student_4, student_5, student_6]"
      ]
    },
    {
      "cell_type": "code",
      "execution_count": null,
      "id": "f601acfc",
      "metadata": {
        "id": "f601acfc",
        "outputId": "75e4654f-594d-4346-d9b2-8e7e20390262"
      },
      "outputs": [
        {
          "data": {
            "text/plain": [
              "['Ivan', 'Nikita', 'Petr', 'Ignat', 'Dima', 'Pavel']"
            ]
          },
          "execution_count": 34,
          "metadata": {},
          "output_type": "execute_result"
        }
      ],
      "source": [
        "sql_students"
      ]
    },
    {
      "cell_type": "code",
      "execution_count": null,
      "id": "7f75610d",
      "metadata": {
        "id": "7f75610d",
        "outputId": "b865685e-ade1-4579-8406-453a2325b1af"
      },
      "outputs": [
        {
          "data": {
            "text/plain": [
              "'Ivan'"
            ]
          },
          "execution_count": 35,
          "metadata": {},
          "output_type": "execute_result"
        }
      ],
      "source": [
        "# индексация списков\n",
        "# В питоне индексация списков начинается с 0\n",
        "sql_students[0]"
      ]
    },
    {
      "cell_type": "code",
      "execution_count": null,
      "id": "a8f8189b",
      "metadata": {
        "id": "a8f8189b",
        "outputId": "f0fee33d-3215-47d5-abff-788bf5f01e85"
      },
      "outputs": [
        {
          "data": {
            "text/plain": [
              "'Dima'"
            ]
          },
          "execution_count": 36,
          "metadata": {},
          "output_type": "execute_result"
        }
      ],
      "source": [
        "sql_students[4]"
      ]
    },
    {
      "cell_type": "code",
      "execution_count": null,
      "id": "3048ff82",
      "metadata": {
        "id": "3048ff82",
        "outputId": "d9530495-88dd-4078-abed-418d383c6b14"
      },
      "outputs": [
        {
          "data": {
            "text/plain": [
              "['Ivan', 'Nikita']"
            ]
          },
          "execution_count": 37,
          "metadata": {},
          "output_type": "execute_result"
        }
      ],
      "source": [
        " sql_students[0:2] #берем из списка элемент под номерами 0 и 1, 2 не входит!"
      ]
    },
    {
      "cell_type": "code",
      "execution_count": null,
      "id": "0b465007",
      "metadata": {
        "id": "0b465007",
        "outputId": "b62d8fa5-7a50-442f-ebcc-3d7e586ff1c8"
      },
      "outputs": [
        {
          "data": {
            "text/plain": [
              "['Ivan', 'Nikita', 'Petr', 'Ignat']"
            ]
          },
          "execution_count": 38,
          "metadata": {},
          "output_type": "execute_result"
        }
      ],
      "source": [
        "sql_students[0:4] # берем из списка элементы под номерами от 0 до 3, 4 не берем!"
      ]
    },
    {
      "cell_type": "code",
      "execution_count": null,
      "id": "139a5aab",
      "metadata": {
        "id": "139a5aab",
        "outputId": "299aa378-561c-4644-afea-06e668981bc0"
      },
      "outputs": [
        {
          "data": {
            "text/plain": [
              "['Nikita', 'Petr']"
            ]
          },
          "execution_count": 39,
          "metadata": {},
          "output_type": "execute_result"
        }
      ],
      "source": [
        "sql_students[1:3] #берем из списка элеметты под номерами 1(2),2(3), 3(4) не берем!"
      ]
    },
    {
      "cell_type": "code",
      "execution_count": null,
      "id": "592e5321",
      "metadata": {
        "id": "592e5321",
        "outputId": "ea9de530-ad45-46a9-d386-a6cf45d246dc"
      },
      "outputs": [
        {
          "data": {
            "text/plain": [
              "['Ivan', 'Nikita', 'Petr', 'Ignat', 'Dima', 'Pavel']"
            ]
          },
          "execution_count": 40,
          "metadata": {},
          "output_type": "execute_result"
        }
      ],
      "source": [
        "sql_students[:] # выведет весь список"
      ]
    },
    {
      "cell_type": "code",
      "execution_count": null,
      "id": "f091ee61",
      "metadata": {
        "id": "f091ee61",
        "outputId": "b99a7ed7-9d68-439b-af68-a4bc2ff7a65d"
      },
      "outputs": [
        {
          "data": {
            "text/plain": [
              "['Nikita', 'Petr', 'Ignat', 'Dima', 'Pavel']"
            ]
          },
          "execution_count": 41,
          "metadata": {},
          "output_type": "execute_result"
        }
      ],
      "source": [
        "sql_students[1:] #отбрасываем первый элемент"
      ]
    },
    {
      "cell_type": "code",
      "execution_count": null,
      "id": "5bc762ab",
      "metadata": {
        "id": "5bc762ab",
        "outputId": "9161e3b9-263a-4c17-d819-60640da6e89a"
      },
      "outputs": [
        {
          "data": {
            "text/plain": [
              "['Ivan', 'Nikita', 'Petr']"
            ]
          },
          "execution_count": 42,
          "metadata": {},
          "output_type": "execute_result"
        }
      ],
      "source": [
        "sql_students[:3] # выведет три самых первых элемента"
      ]
    },
    {
      "cell_type": "code",
      "execution_count": null,
      "id": "74f7691a",
      "metadata": {
        "id": "74f7691a",
        "outputId": "ad5e57ac-447f-4ce7-e1d8-6c34449b49c3"
      },
      "outputs": [
        {
          "data": {
            "text/plain": [
              "['Petr', 'Ignat', 'Dima']"
            ]
          },
          "execution_count": 43,
          "metadata": {},
          "output_type": "execute_result"
        }
      ],
      "source": [
        "sql_students[2:5] # берем из списка 2(3) и 4(5), 5 выколот (не берем)"
      ]
    },
    {
      "cell_type": "code",
      "execution_count": null,
      "id": "03ea24c2",
      "metadata": {
        "id": "03ea24c2",
        "outputId": "9ff6aca6-0142-4555-8c6d-51ab55323c69"
      },
      "outputs": [
        {
          "data": {
            "text/plain": [
              "[]"
            ]
          },
          "execution_count": 44,
          "metadata": {},
          "output_type": "execute_result"
        }
      ],
      "source": [
        "sql_students[5:2] #выведет квадратные скобки"
      ]
    },
    {
      "cell_type": "code",
      "execution_count": null,
      "id": "78c4e742",
      "metadata": {
        "id": "78c4e742",
        "outputId": "00380c14-261c-4bc6-ad12-8a542f485ad8"
      },
      "outputs": [
        {
          "data": {
            "text/plain": [
              "[]"
            ]
          },
          "execution_count": 45,
          "metadata": {},
          "output_type": "execute_result"
        }
      ],
      "source": [
        "sql_students[4:1] #выведет квадратные скобки"
      ]
    },
    {
      "cell_type": "code",
      "execution_count": null,
      "id": "709c8759",
      "metadata": {
        "id": "709c8759",
        "outputId": "54de5654-b4e7-4ce1-bd4b-7f831a5e5baf"
      },
      "outputs": [
        {
          "data": {
            "text/plain": [
              "['Ivan', 'Nikita', 'Petr', 'Ignat', 'Dima', 'Pavel']"
            ]
          },
          "execution_count": 46,
          "metadata": {},
          "output_type": "execute_result"
        }
      ],
      "source": [
        "sql_students[0:10] #выведет весь список"
      ]
    },
    {
      "cell_type": "code",
      "execution_count": null,
      "id": "86e7b9a2",
      "metadata": {
        "id": "86e7b9a2"
      },
      "outputs": [],
      "source": [
        "my_index = 1 #заводим переменную мой индекс равную 1"
      ]
    },
    {
      "cell_type": "code",
      "execution_count": null,
      "id": "a829e6e5",
      "metadata": {
        "id": "a829e6e5",
        "outputId": "37c0e7c2-5461-4bbb-966c-37a6595b8239"
      },
      "outputs": [
        {
          "data": {
            "text/plain": [
              "'Nikita'"
            ]
          },
          "execution_count": 48,
          "metadata": {},
          "output_type": "execute_result"
        }
      ],
      "source": [
        "sql_students[my_index] #эту переменную вводим как индекс"
      ]
    },
    {
      "cell_type": "code",
      "execution_count": null,
      "id": "ef673f2f",
      "metadata": {
        "id": "ef673f2f"
      },
      "outputs": [],
      "source": [
        "#вводим две переменные, старт и стоп\n",
        "start_i = 0\n",
        "end_i = 2"
      ]
    },
    {
      "cell_type": "code",
      "execution_count": null,
      "id": "1afafa0f",
      "metadata": {
        "id": "1afafa0f",
        "outputId": "fae4617b-b3c4-48dd-84f9-a4a0cf530f51"
      },
      "outputs": [
        {
          "data": {
            "text/plain": [
              "['Ivan', 'Nikita']"
            ]
          },
          "execution_count": 50,
          "metadata": {},
          "output_type": "execute_result"
        }
      ],
      "source": [
        "sql_students[start_i:end_i] #добавлем их как индексы"
      ]
    },
    {
      "cell_type": "code",
      "execution_count": null,
      "id": "05894a61",
      "metadata": {
        "id": "05894a61",
        "outputId": "c028293b-f22b-4ad3-8913-1199823aeb72"
      },
      "outputs": [
        {
          "data": {
            "text/plain": [
              "'Pavel'"
            ]
          },
          "execution_count": 51,
          "metadata": {},
          "output_type": "execute_result"
        }
      ],
      "source": [
        "# что будет если использовать отрицаительные числа для среза?\n",
        "sql_students[-1] #мы двигаемся задом наперед, справа на лево"
      ]
    },
    {
      "cell_type": "code",
      "execution_count": null,
      "id": "e4813f66",
      "metadata": {
        "id": "e4813f66",
        "outputId": "9b762760-1c92-4ec9-e6c6-cfc639a24c58"
      },
      "outputs": [
        {
          "data": {
            "text/plain": [
              "'Dima'"
            ]
          },
          "execution_count": 52,
          "metadata": {},
          "output_type": "execute_result"
        }
      ],
      "source": [
        "sql_students[-2] #выводим второй элемент с конца"
      ]
    },
    {
      "cell_type": "code",
      "execution_count": null,
      "id": "88b0add8",
      "metadata": {
        "id": "88b0add8",
        "outputId": "7862be99-92d2-4b76-d14f-4335c8a4d40a"
      },
      "outputs": [
        {
          "data": {
            "text/plain": [
              "'Ivan'"
            ]
          },
          "execution_count": 53,
          "metadata": {},
          "output_type": "execute_result"
        }
      ],
      "source": [
        "sql_students[-6] #выведет ошибку, не найден элемент с индексом -7"
      ]
    },
    {
      "cell_type": "code",
      "execution_count": null,
      "id": "fbd9097d",
      "metadata": {
        "id": "fbd9097d"
      },
      "outputs": [],
      "source": [
        "my_list = list(range(50)) #создать спсиок из 50 элементов, от 0 до 49"
      ]
    },
    {
      "cell_type": "code",
      "execution_count": null,
      "id": "ff31ce14",
      "metadata": {
        "id": "ff31ce14",
        "outputId": "c723539d-05f3-41e4-810c-3dfbaa374ebe"
      },
      "outputs": [
        {
          "data": {
            "text/plain": [
              "[0,\n",
              " 1,\n",
              " 2,\n",
              " 3,\n",
              " 4,\n",
              " 5,\n",
              " 6,\n",
              " 7,\n",
              " 8,\n",
              " 9,\n",
              " 10,\n",
              " 11,\n",
              " 12,\n",
              " 13,\n",
              " 14,\n",
              " 15,\n",
              " 16,\n",
              " 17,\n",
              " 18,\n",
              " 19,\n",
              " 20,\n",
              " 21,\n",
              " 22,\n",
              " 23,\n",
              " 24,\n",
              " 25,\n",
              " 26,\n",
              " 27,\n",
              " 28,\n",
              " 29,\n",
              " 30,\n",
              " 31,\n",
              " 32,\n",
              " 33,\n",
              " 34,\n",
              " 35,\n",
              " 36,\n",
              " 37,\n",
              " 38,\n",
              " 39,\n",
              " 40,\n",
              " 41,\n",
              " 42,\n",
              " 43,\n",
              " 44,\n",
              " 45,\n",
              " 46,\n",
              " 47,\n",
              " 48,\n",
              " 49]"
            ]
          },
          "execution_count": 55,
          "metadata": {},
          "output_type": "execute_result"
        }
      ],
      "source": [
        "my_list"
      ]
    },
    {
      "cell_type": "code",
      "execution_count": null,
      "id": "95b54d2e",
      "metadata": {
        "id": "95b54d2e",
        "outputId": "75edaa7a-3c26-4805-c8e5-7f55b90df8da"
      },
      "outputs": [
        {
          "data": {
            "text/plain": [
              "[0, 1, 2, 3, 4]"
            ]
          },
          "execution_count": 56,
          "metadata": {},
          "output_type": "execute_result"
        }
      ],
      "source": [
        "list(range(5)) #выедет список из 5 элеметов от 0 до 4"
      ]
    },
    {
      "cell_type": "code",
      "execution_count": null,
      "id": "7bf53442",
      "metadata": {
        "id": "7bf53442",
        "outputId": "49e631d8-e798-4be9-a039-ce51fec669f8"
      },
      "outputs": [
        {
          "data": {
            "text/plain": [
              "range(0, 5)"
            ]
          },
          "execution_count": 57,
          "metadata": {},
          "output_type": "execute_result"
        }
      ],
      "source": [
        "range(5) # функция range получает на старте значения от 0 до 5"
      ]
    },
    {
      "cell_type": "code",
      "execution_count": null,
      "id": "bf611f25",
      "metadata": {
        "id": "bf611f25",
        "outputId": "f6290d94-a013-41ce-c707-11294f40b193"
      },
      "outputs": [
        {
          "data": {
            "text/plain": [
              "[0,\n",
              " 1,\n",
              " 2,\n",
              " 3,\n",
              " 4,\n",
              " 5,\n",
              " 6,\n",
              " 7,\n",
              " 8,\n",
              " 9,\n",
              " 10,\n",
              " 11,\n",
              " 12,\n",
              " 13,\n",
              " 14,\n",
              " 15,\n",
              " 16,\n",
              " 17,\n",
              " 18,\n",
              " 19,\n",
              " 20,\n",
              " 21,\n",
              " 22,\n",
              " 23,\n",
              " 24,\n",
              " 25,\n",
              " 26,\n",
              " 27,\n",
              " 28,\n",
              " 29,\n",
              " 30,\n",
              " 31,\n",
              " 32,\n",
              " 33,\n",
              " 34,\n",
              " 35,\n",
              " 36,\n",
              " 37,\n",
              " 38,\n",
              " 39,\n",
              " 40,\n",
              " 41,\n",
              " 42,\n",
              " 43,\n",
              " 44,\n",
              " 45,\n",
              " 46,\n",
              " 47,\n",
              " 48,\n",
              " 49]"
            ]
          },
          "execution_count": 58,
          "metadata": {},
          "output_type": "execute_result"
        }
      ],
      "source": [
        "my_list = list(range(0, 50)) # получим список от 0 до 49, задаем интнервал от 0 до 50, 50 не  включаем\n",
        "my_list"
      ]
    },
    {
      "cell_type": "code",
      "execution_count": null,
      "id": "735a0504",
      "metadata": {
        "id": "735a0504",
        "outputId": "42f91241-2c6b-4a55-ad4f-5fdcc0fb03fa"
      },
      "outputs": [
        {
          "data": {
            "text/plain": [
              "15"
            ]
          },
          "execution_count": 59,
          "metadata": {},
          "output_type": "execute_result"
        }
      ],
      "source": [
        "my_list[15] # нам повезло что индекс и число совпали"
      ]
    },
    {
      "cell_type": "code",
      "execution_count": null,
      "id": "231a7508",
      "metadata": {
        "id": "231a7508",
        "outputId": "5a31a693-e404-4a3f-e75e-d30f75e58ffc"
      },
      "outputs": [
        {
          "data": {
            "text/plain": [
              "67"
            ]
          },
          "execution_count": 60,
          "metadata": {},
          "output_type": "execute_result"
        }
      ],
      "source": [
        "my_list = list(range(50,150))\n",
        "my_list[17]"
      ]
    },
    {
      "cell_type": "code",
      "execution_count": null,
      "id": "687efd18",
      "metadata": {
        "id": "687efd18",
        "outputId": "10cdebc3-12e4-4f23-8b52-c23aee52036c"
      },
      "outputs": [
        {
          "data": {
            "text/plain": [
              "[60, 61, 62, 63, 64, 65, 66, 67, 68, 69]"
            ]
          },
          "execution_count": 61,
          "metadata": {},
          "output_type": "execute_result"
        }
      ],
      "source": [
        "my_list[10:20] #возмет с 10 индекса до 19 вернет все элементы"
      ]
    },
    {
      "cell_type": "code",
      "execution_count": null,
      "id": "b7b3f6fc",
      "metadata": {
        "id": "b7b3f6fc",
        "outputId": "26ecf107-fa3a-4bbf-f936-6b7b432ff8a7"
      },
      "outputs": [
        {
          "data": {
            "text/plain": [
              "[50,\n",
              " 51,\n",
              " 52,\n",
              " 53,\n",
              " 54,\n",
              " 55,\n",
              " 56,\n",
              " 57,\n",
              " 58,\n",
              " 59,\n",
              " 60,\n",
              " 61,\n",
              " 62,\n",
              " 63,\n",
              " 64,\n",
              " 65,\n",
              " 66,\n",
              " 67,\n",
              " 68,\n",
              " 69,\n",
              " 70,\n",
              " 71,\n",
              " 72,\n",
              " 73,\n",
              " 74,\n",
              " 75,\n",
              " 76,\n",
              " 77,\n",
              " 78,\n",
              " 79,\n",
              " 80,\n",
              " 81,\n",
              " 82,\n",
              " 83,\n",
              " 84,\n",
              " 85,\n",
              " 86,\n",
              " 87,\n",
              " 88,\n",
              " 89,\n",
              " 90,\n",
              " 91,\n",
              " 92,\n",
              " 93,\n",
              " 94,\n",
              " 95,\n",
              " 96,\n",
              " 97,\n",
              " 98,\n",
              " 99,\n",
              " 100,\n",
              " 101,\n",
              " 102,\n",
              " 103,\n",
              " 104,\n",
              " 105,\n",
              " 106,\n",
              " 107,\n",
              " 108,\n",
              " 109,\n",
              " 110,\n",
              " 111,\n",
              " 112,\n",
              " 113,\n",
              " 114,\n",
              " 115,\n",
              " 116,\n",
              " 117,\n",
              " 118,\n",
              " 119,\n",
              " 120,\n",
              " 121,\n",
              " 122,\n",
              " 123,\n",
              " 124,\n",
              " 125,\n",
              " 126,\n",
              " 127,\n",
              " 128,\n",
              " 129,\n",
              " 130,\n",
              " 131,\n",
              " 132,\n",
              " 133,\n",
              " 134,\n",
              " 135,\n",
              " 136,\n",
              " 137,\n",
              " 138,\n",
              " 139,\n",
              " 140,\n",
              " 141,\n",
              " 142,\n",
              " 143,\n",
              " 144,\n",
              " 145,\n",
              " 146,\n",
              " 147,\n",
              " 148,\n",
              " 149]"
            ]
          },
          "execution_count": 62,
          "metadata": {},
          "output_type": "execute_result"
        }
      ],
      "source": [
        "my_list[:] #вернет нам все элементы списка"
      ]
    },
    {
      "cell_type": "code",
      "execution_count": null,
      "id": "18b23a7e",
      "metadata": {
        "id": "18b23a7e",
        "outputId": "ee56d9b3-8e6c-4979-876c-3071af64dce0"
      },
      "outputs": [
        {
          "data": {
            "text/plain": [
              "[50,\n",
              " 51,\n",
              " 52,\n",
              " 53,\n",
              " 54,\n",
              " 55,\n",
              " 56,\n",
              " 57,\n",
              " 58,\n",
              " 59,\n",
              " 60,\n",
              " 61,\n",
              " 62,\n",
              " 63,\n",
              " 64,\n",
              " 65,\n",
              " 66,\n",
              " 67,\n",
              " 68,\n",
              " 69]"
            ]
          },
          "execution_count": 63,
          "metadata": {},
          "output_type": "execute_result"
        }
      ],
      "source": [
        "my_list[:20] #вернет нам элементы с 0 до 19, то есть 20 элементов"
      ]
    },
    {
      "cell_type": "code",
      "execution_count": null,
      "id": "7b4ebf28",
      "metadata": {
        "id": "7b4ebf28",
        "outputId": "443a5f19-12db-40e8-d501-194ae55de2a6"
      },
      "outputs": [
        {
          "data": {
            "text/plain": [
              "[50, 52, 54, 56, 58]"
            ]
          },
          "execution_count": 64,
          "metadata": {},
          "output_type": "execute_result"
        }
      ],
      "source": [
        "my_list[0:10:2] #задает начало и конец нашего списка 0 до 10(9), 10 не входит\n",
        "#выдаст на список от 50 до 59, с шагом 2"
      ]
    },
    {
      "cell_type": "code",
      "execution_count": null,
      "id": "b462015f",
      "metadata": {
        "id": "b462015f",
        "outputId": "fa3bde07-f517-4abf-d2ed-e97f520f6ef8"
      },
      "outputs": [
        {
          "data": {
            "text/plain": [
              "[50, 53, 56, 59]"
            ]
          },
          "execution_count": 65,
          "metadata": {},
          "output_type": "execute_result"
        }
      ],
      "source": [
        "my_list[0:10:3] #первый параметр задает старт, второй конец,но не включает его третий шаг"
      ]
    },
    {
      "cell_type": "code",
      "execution_count": null,
      "id": "852254e0",
      "metadata": {
        "id": "852254e0",
        "outputId": "5caaf930-4a56-4e08-be49-5c5f4e575e7a"
      },
      "outputs": [
        {
          "data": {
            "text/plain": [
              "[50, 51, 52, 53, 54, 55, 56, 57, 58, 59]"
            ]
          },
          "execution_count": 66,
          "metadata": {},
          "output_type": "execute_result"
        }
      ],
      "source": [
        "my_list[0:10:1] #10 элементов с шагом 1"
      ]
    },
    {
      "cell_type": "code",
      "execution_count": null,
      "id": "c701e896",
      "metadata": {
        "id": "c701e896",
        "outputId": "5928e215-3be3-4328-aa3d-189760979d87"
      },
      "outputs": [
        {
          "data": {
            "text/plain": [
              "[]"
            ]
          },
          "execution_count": 67,
          "metadata": {},
          "output_type": "execute_result"
        }
      ],
      "source": [
        "my_list[0:10:-1] #такая запись выдаст квадаратные скобки"
      ]
    },
    {
      "cell_type": "code",
      "execution_count": null,
      "id": "1667c887",
      "metadata": {
        "id": "1667c887",
        "outputId": "c88c2beb-e463-433a-8503-93621b027a61"
      },
      "outputs": [
        {
          "data": {
            "text/plain": [
              "[60, 59, 58, 57, 56, 55, 54, 53, 52, 51]"
            ]
          },
          "execution_count": 68,
          "metadata": {},
          "output_type": "execute_result"
        }
      ],
      "source": [
        "my_list[10:0:-1] #получем запись с конца с шагом -1"
      ]
    },
    {
      "cell_type": "code",
      "execution_count": null,
      "id": "097af942",
      "metadata": {
        "scrolled": true,
        "tags": [],
        "id": "097af942",
        "outputId": "bcf4e454-af10-401a-a9d1-ad83fa57d2d0"
      },
      "outputs": [
        {
          "data": {
            "text/plain": [
              "[149,\n",
              " 148,\n",
              " 147,\n",
              " 146,\n",
              " 145,\n",
              " 144,\n",
              " 143,\n",
              " 142,\n",
              " 141,\n",
              " 140,\n",
              " 139,\n",
              " 138,\n",
              " 137,\n",
              " 136,\n",
              " 135,\n",
              " 134,\n",
              " 133,\n",
              " 132,\n",
              " 131,\n",
              " 130,\n",
              " 129,\n",
              " 128,\n",
              " 127,\n",
              " 126,\n",
              " 125,\n",
              " 124,\n",
              " 123,\n",
              " 122,\n",
              " 121,\n",
              " 120,\n",
              " 119,\n",
              " 118,\n",
              " 117,\n",
              " 116,\n",
              " 115,\n",
              " 114,\n",
              " 113,\n",
              " 112,\n",
              " 111,\n",
              " 110,\n",
              " 109,\n",
              " 108,\n",
              " 107,\n",
              " 106,\n",
              " 105,\n",
              " 104,\n",
              " 103,\n",
              " 102,\n",
              " 101,\n",
              " 100,\n",
              " 99,\n",
              " 98,\n",
              " 97,\n",
              " 96,\n",
              " 95,\n",
              " 94,\n",
              " 93,\n",
              " 92,\n",
              " 91,\n",
              " 90,\n",
              " 89,\n",
              " 88,\n",
              " 87,\n",
              " 86,\n",
              " 85,\n",
              " 84,\n",
              " 83,\n",
              " 82,\n",
              " 81,\n",
              " 80,\n",
              " 79,\n",
              " 78,\n",
              " 77,\n",
              " 76,\n",
              " 75,\n",
              " 74,\n",
              " 73,\n",
              " 72,\n",
              " 71,\n",
              " 70,\n",
              " 69,\n",
              " 68,\n",
              " 67,\n",
              " 66,\n",
              " 65,\n",
              " 64,\n",
              " 63,\n",
              " 62,\n",
              " 61,\n",
              " 60,\n",
              " 59,\n",
              " 58,\n",
              " 57,\n",
              " 56,\n",
              " 55,\n",
              " 54,\n",
              " 53,\n",
              " 52,\n",
              " 51,\n",
              " 50]"
            ]
          },
          "execution_count": 69,
          "metadata": {},
          "output_type": "execute_result"
        }
      ],
      "source": [
        "my_list[::-1] #получем развернутый задом на перед список"
      ]
    },
    {
      "cell_type": "markdown",
      "id": "0b682121",
      "metadata": {
        "id": "0b682121"
      },
      "source": [
        "## Методы списков"
      ]
    },
    {
      "cell_type": "code",
      "execution_count": null,
      "id": "110d5704-42d6-4550-955c-e1ebac20b5fa",
      "metadata": {
        "id": "110d5704-42d6-4550-955c-e1ebac20b5fa"
      },
      "outputs": [],
      "source": [
        "sql_students.append(\"Kirill\") #метод append - добаваляет в конец списка имя Kirill"
      ]
    },
    {
      "cell_type": "code",
      "execution_count": null,
      "id": "05240deb",
      "metadata": {
        "id": "05240deb",
        "outputId": "b9671fde-8def-4fbe-c24d-a9c9474c37d9"
      },
      "outputs": [
        {
          "data": {
            "text/plain": [
              "['Ivan', 'Nikita', 'Petr', 'Ignat', 'Dima', 'Pavel', 'Kirill']"
            ]
          },
          "execution_count": 71,
          "metadata": {},
          "output_type": "execute_result"
        }
      ],
      "source": [
        "sql_students #выводим имя Kirill в конец списка"
      ]
    },
    {
      "cell_type": "code",
      "execution_count": null,
      "id": "e0996c4b",
      "metadata": {
        "id": "e0996c4b",
        "outputId": "5c0276f8-f544-4b0e-aaf3-1682a841cb0a"
      },
      "outputs": [
        {
          "data": {
            "text/plain": [
              "['Ivan', 'Nikita', 'Petr']"
            ]
          },
          "execution_count": 72,
          "metadata": {},
          "output_type": "execute_result"
        }
      ],
      "source": [
        "python_students"
      ]
    },
    {
      "cell_type": "code",
      "execution_count": null,
      "id": "cafa3e1c",
      "metadata": {
        "id": "cafa3e1c"
      },
      "outputs": [],
      "source": [
        "python_students.append(\"Kim\")  # добавили имя Kim в конец списка, добавляет только один элемент"
      ]
    },
    {
      "cell_type": "code",
      "execution_count": null,
      "id": "0dbf64c5",
      "metadata": {
        "id": "0dbf64c5",
        "outputId": "7ed951bf-9930-489b-a1e9-92c78c5e4a53"
      },
      "outputs": [
        {
          "data": {
            "text/plain": [
              "['Ivan', 'Nikita', 'Petr', 'Kim']"
            ]
          },
          "execution_count": 74,
          "metadata": {},
          "output_type": "execute_result"
        }
      ],
      "source": [
        "python_students # выводим имя Kim в конец списка"
      ]
    },
    {
      "cell_type": "code",
      "execution_count": null,
      "id": "4a391869",
      "metadata": {
        "id": "4a391869"
      },
      "outputs": [],
      "source": [
        "sql_students.extend([\"Jan\",\"Harry\"]) #добавим в конец списка два имени, метод extend обавляет в конец списка несколко элементов"
      ]
    },
    {
      "cell_type": "code",
      "execution_count": null,
      "id": "bd844ed1",
      "metadata": {
        "id": "bd844ed1",
        "outputId": "4ff21a97-7e4e-4754-e621-f6a9285b69a7"
      },
      "outputs": [
        {
          "data": {
            "text/plain": [
              "['Ivan', 'Nikita', 'Petr', 'Ignat', 'Dima', 'Pavel', 'Kirill', 'Jan', 'Harry']"
            ]
          },
          "execution_count": 76,
          "metadata": {},
          "output_type": "execute_result"
        }
      ],
      "source": [
        "sql_students"
      ]
    },
    {
      "cell_type": "code",
      "execution_count": null,
      "id": "1f7492f3",
      "metadata": {
        "id": "1f7492f3"
      },
      "outputs": [],
      "source": [
        "sql_students.extend(python_students) #добавил в конец списка другой список"
      ]
    },
    {
      "cell_type": "code",
      "execution_count": null,
      "id": "932cd43a",
      "metadata": {
        "id": "932cd43a",
        "outputId": "b5961e69-7e94-4e71-9454-4993eadf5c1b"
      },
      "outputs": [
        {
          "data": {
            "text/plain": [
              "['Ivan',\n",
              " 'Nikita',\n",
              " 'Petr',\n",
              " 'Ignat',\n",
              " 'Dima',\n",
              " 'Pavel',\n",
              " 'Kirill',\n",
              " 'Jan',\n",
              " 'Harry',\n",
              " 'Ivan',\n",
              " 'Nikita',\n",
              " 'Petr',\n",
              " 'Kim']"
            ]
          },
          "execution_count": 78,
          "metadata": {},
          "output_type": "execute_result"
        }
      ],
      "source": [
        "sql_students"
      ]
    },
    {
      "cell_type": "code",
      "execution_count": null,
      "id": "996d9fd1",
      "metadata": {
        "id": "996d9fd1"
      },
      "outputs": [],
      "source": [
        "sql_students.insert(0, \"Eva\") #метод показывает номер места, и имя переменной"
      ]
    },
    {
      "cell_type": "code",
      "execution_count": null,
      "id": "385800d9",
      "metadata": {
        "id": "385800d9",
        "outputId": "e0f5d40c-1aad-4d53-d0ca-c0e508761016"
      },
      "outputs": [
        {
          "data": {
            "text/plain": [
              "['Eva',\n",
              " 'Ivan',\n",
              " 'Nikita',\n",
              " 'Petr',\n",
              " 'Ignat',\n",
              " 'Dima',\n",
              " 'Pavel',\n",
              " 'Kirill',\n",
              " 'Jan',\n",
              " 'Harry',\n",
              " 'Ivan',\n",
              " 'Nikita',\n",
              " 'Petr',\n",
              " 'Kim']"
            ]
          },
          "execution_count": 80,
          "metadata": {},
          "output_type": "execute_result"
        }
      ],
      "source": [
        "sql_students # выведет имя Eva в конец списка"
      ]
    },
    {
      "cell_type": "code",
      "execution_count": null,
      "id": "ee6c2f5b",
      "metadata": {
        "id": "ee6c2f5b"
      },
      "outputs": [],
      "source": [
        "sql_students.insert(0, [\"Vera\",\"Fedor\"]) #добавим на 0 адрес список из двух имен"
      ]
    },
    {
      "cell_type": "code",
      "execution_count": null,
      "id": "5d45c8c4",
      "metadata": {
        "id": "5d45c8c4",
        "outputId": "d5af281e-cfcf-4b14-d42f-f6e2b7384cdf"
      },
      "outputs": [
        {
          "data": {
            "text/plain": [
              "[['Vera', 'Fedor'],\n",
              " 'Eva',\n",
              " 'Ivan',\n",
              " 'Nikita',\n",
              " 'Petr',\n",
              " 'Ignat',\n",
              " 'Dima',\n",
              " 'Pavel',\n",
              " 'Kirill',\n",
              " 'Jan',\n",
              " 'Harry',\n",
              " 'Ivan',\n",
              " 'Nikita',\n",
              " 'Petr',\n",
              " 'Kim']"
            ]
          },
          "execution_count": 82,
          "metadata": {},
          "output_type": "execute_result"
        }
      ],
      "source": [
        "sql_students #два имен списком веведутся в начале списка, то есть вложенный список"
      ]
    },
    {
      "cell_type": "code",
      "execution_count": null,
      "id": "c91dde7f",
      "metadata": {
        "id": "c91dde7f",
        "outputId": "cc3a6790-8df9-4c61-f606-02546614ac90"
      },
      "outputs": [
        {
          "data": {
            "text/plain": [
              "['Vera', 'Fedor']"
            ]
          },
          "execution_count": 83,
          "metadata": {},
          "output_type": "execute_result"
        }
      ],
      "source": [
        "sql_students.pop(0) #метод pop - принемает индекс того элемента который удаляем и выводит его"
      ]
    },
    {
      "cell_type": "code",
      "execution_count": null,
      "id": "87d15980",
      "metadata": {
        "id": "87d15980",
        "outputId": "16b13c4c-9ed0-498a-aa90-002330127ca6"
      },
      "outputs": [
        {
          "data": {
            "text/plain": [
              "['Eva',\n",
              " 'Ivan',\n",
              " 'Nikita',\n",
              " 'Petr',\n",
              " 'Ignat',\n",
              " 'Dima',\n",
              " 'Pavel',\n",
              " 'Kirill',\n",
              " 'Jan',\n",
              " 'Harry',\n",
              " 'Ivan',\n",
              " 'Nikita',\n",
              " 'Petr',\n",
              " 'Kim']"
            ]
          },
          "execution_count": 84,
          "metadata": {},
          "output_type": "execute_result"
        }
      ],
      "source": [
        "sql_students"
      ]
    },
    {
      "cell_type": "code",
      "execution_count": null,
      "id": "c912d56a",
      "metadata": {
        "id": "c912d56a"
      },
      "outputs": [],
      "source": [
        "sql_students.remove(\"Ivan\") # удаляет из списка имя Ivan, но только его перый номер по индексу"
      ]
    },
    {
      "cell_type": "code",
      "execution_count": null,
      "id": "99f4b9a3",
      "metadata": {
        "id": "99f4b9a3",
        "outputId": "5369cd0e-d1a4-448b-9fd7-37417d2811c6"
      },
      "outputs": [
        {
          "data": {
            "text/plain": [
              "['Eva',\n",
              " 'Nikita',\n",
              " 'Petr',\n",
              " 'Ignat',\n",
              " 'Dima',\n",
              " 'Pavel',\n",
              " 'Kirill',\n",
              " 'Jan',\n",
              " 'Harry',\n",
              " 'Ivan',\n",
              " 'Nikita',\n",
              " 'Petr',\n",
              " 'Kim']"
            ]
          },
          "execution_count": 86,
          "metadata": {},
          "output_type": "execute_result"
        }
      ],
      "source": [
        "sql_students #выводим список, но уже без имени Ivan, под первым индексом"
      ]
    },
    {
      "cell_type": "markdown",
      "id": "d6594870",
      "metadata": {
        "id": "d6594870"
      },
      "source": [
        "## pop() VS remove()\n",
        "\n",
        "Давайте еще раз остановимся на разнице этих методов. Методы `pop()` и `remove()` применяются для удаления элементов из списков в Python. Метод pop() удаляет и возвращает последний элемент из списка. Если в скобках указать индекс элемента, то будет удален элемент с указанным индексом.\n",
        "\n",
        "**Например:**\n",
        "\n",
        "* `fruits = ['apple', 'banana', 'orange']`\n",
        "* `removed_fruit = fruits.pop()`  `# удалит 'orange' из списка и вернет его`\n",
        "* `print(fruits)  # ['apple', 'banana']\n",
        "* `print(removed_fruit)`  `#'orange'`\n",
        "\n",
        "\n",
        "**А если мы хотим удалить элемент по индексу, то нужно указать индекс в скобках метода:**\n",
        "\n",
        "* `fruits = ['apple', 'banana', 'orange']`\n",
        "* `removed_fruit = fruits.pop(1)`  # удалит 'banana' из списка и вернет его\n",
        "* `print(fruits)`  # ['apple', 'orange']\n",
        "* `print(removed_fruit)`  # banana\n",
        "\n",
        "\n",
        "Метод `remove()`, с другой стороны, удаляет первый найденный элемент с указанным значением в списке.\n",
        "\n",
        "**Например:**\n",
        "\n",
        "* `fruits = ['apple', 'banana', 'orange']`\n",
        "* `fruits.remove('banana')  # удалит 'banana' из списка`\n",
        "* `print(fruits)  # ['apple', 'orange']`\n",
        "\n",
        "\n",
        "Важно отметить, что если в списке не будет элемента с указанным индексом или значением, методы `pop()` и `remove()` вызовут ошибки. Таким образом, основное различие между методами `pop()` и `remove()` заключается в том, что `pop()` удаляет элемент по индексу, возвращая его значение, а `remove()` удаляет первый найденный элемент с заданным значением.\n"
      ]
    },
    {
      "cell_type": "markdown",
      "id": "099f22c2-e2d7-4a76-a98c-09788e3fc5c8",
      "metadata": {
        "tags": [],
        "id": "099f22c2-e2d7-4a76-a98c-09788e3fc5c8"
      },
      "source": [
        "##### Работа со множествами"
      ]
    },
    {
      "cell_type": "code",
      "execution_count": null,
      "id": "bedc5946-e7ba-45d3-a4e7-0db9e4c235c9",
      "metadata": {
        "tags": [],
        "id": "bedc5946-e7ba-45d3-a4e7-0db9e4c235c9"
      },
      "outputs": [],
      "source": [
        "my_set = {1,1,3,4} #создаем сет изспользуя фигурные скобки"
      ]
    },
    {
      "cell_type": "code",
      "execution_count": null,
      "id": "e2fa53a0-db17-4da7-937b-9f459894e536",
      "metadata": {
        "tags": [],
        "id": "e2fa53a0-db17-4da7-937b-9f459894e536"
      },
      "outputs": [],
      "source": [
        "students_set = set(sql_students) # либо созбать сет, подав на вход список"
      ]
    },
    {
      "cell_type": "code",
      "execution_count": null,
      "id": "3742b948-784e-4490-bac8-01ac9fd9875a",
      "metadata": {
        "tags": [],
        "id": "3742b948-784e-4490-bac8-01ac9fd9875a",
        "outputId": "c8636a89-28a3-4805-de5f-fb319540a9f3"
      },
      "outputs": [
        {
          "data": {
            "text/plain": [
              "{1, 3, 4}"
            ]
          },
          "execution_count": 89,
          "metadata": {},
          "output_type": "execute_result"
        }
      ],
      "source": [
        "my_set # в сет попадут только уникальные значения, не может быть две одинаковые строки или числа"
      ]
    },
    {
      "cell_type": "code",
      "execution_count": null,
      "id": "0dbf41bb-a763-4d7e-90c7-7f24cef00397",
      "metadata": {
        "tags": [],
        "id": "0dbf41bb-a763-4d7e-90c7-7f24cef00397",
        "outputId": "a03049ba-306b-4bb1-b5ff-3cd5e9afb57b"
      },
      "outputs": [
        {
          "data": {
            "text/plain": [
              "{'Dima',\n",
              " 'Eva',\n",
              " 'Harry',\n",
              " 'Ignat',\n",
              " 'Ivan',\n",
              " 'Jan',\n",
              " 'Kim',\n",
              " 'Kirill',\n",
              " 'Nikita',\n",
              " 'Pavel',\n",
              " 'Petr'}"
            ]
          },
          "execution_count": 90,
          "metadata": {},
          "output_type": "execute_result"
        }
      ],
      "source": [
        "students_set #в сет попадут только уникальные имена, повторов не будет"
      ]
    },
    {
      "cell_type": "code",
      "execution_count": null,
      "id": "fcbbbf90-a12e-40b8-b1a0-73f7f5a3b239",
      "metadata": {
        "tags": [],
        "id": "fcbbbf90-a12e-40b8-b1a0-73f7f5a3b239",
        "outputId": "02844d70-d3bd-423b-f419-c8351a19912a"
      },
      "outputs": [
        {
          "data": {
            "text/plain": [
              "['Eva',\n",
              " 'Nikita',\n",
              " 'Petr',\n",
              " 'Ignat',\n",
              " 'Dima',\n",
              " 'Pavel',\n",
              " 'Kirill',\n",
              " 'Jan',\n",
              " 'Harry',\n",
              " 'Ivan',\n",
              " 'Nikita',\n",
              " 'Petr',\n",
              " 'Kim']"
            ]
          },
          "execution_count": 91,
          "metadata": {},
          "output_type": "execute_result"
        }
      ],
      "source": [
        "sql_students # список будет в квадратных скобаках"
      ]
    },
    {
      "cell_type": "code",
      "execution_count": null,
      "id": "02b6db1b-a25d-4507-b553-9fd1e88ec0d1",
      "metadata": {
        "tags": [],
        "id": "02b6db1b-a25d-4507-b553-9fd1e88ec0d1",
        "outputId": "b45652e2-558a-4c7f-8c0c-2f309d8ca825"
      },
      "outputs": [
        {
          "data": {
            "text/plain": [
              "{'Dima',\n",
              " 'Eva',\n",
              " 'Harry',\n",
              " 'Ignat',\n",
              " 'Ivan',\n",
              " 'Jan',\n",
              " 'Kim',\n",
              " 'Kirill',\n",
              " 'Nikita',\n",
              " 'Pavel',\n",
              " 'Petr'}"
            ]
          },
          "execution_count": 92,
          "metadata": {},
          "output_type": "execute_result"
        }
      ],
      "source": [
        "students_set #выдаст ошибку, так как множество не уборядочено, индексы не применимы"
      ]
    },
    {
      "cell_type": "code",
      "execution_count": null,
      "id": "f6c704a2-0e9c-4bee-826d-fdd7ce644a04",
      "metadata": {
        "tags": [],
        "id": "f6c704a2-0e9c-4bee-826d-fdd7ce644a04",
        "outputId": "45060151-10b6-4e11-d9f7-80bc24a24fd6"
      },
      "outputs": [
        {
          "data": {
            "text/plain": [
              "[1, 2, 3, 4]"
            ]
          },
          "execution_count": 93,
          "metadata": {},
          "output_type": "execute_result"
        }
      ],
      "source": [
        "[1,2,3,4]"
      ]
    },
    {
      "cell_type": "code",
      "execution_count": null,
      "id": "d05ee260-fc88-43d4-b710-d509250f3aee",
      "metadata": {
        "tags": [],
        "id": "d05ee260-fc88-43d4-b710-d509250f3aee",
        "outputId": "2346ab79-f135-4f03-ca3a-fb69b751d710"
      },
      "outputs": [
        {
          "data": {
            "text/plain": [
              "{1, 2, 3, 4}"
            ]
          },
          "execution_count": 94,
          "metadata": {},
          "output_type": "execute_result"
        }
      ],
      "source": [
        "{1,1,2,2,3,3,4,4} #только уникальные значения"
      ]
    },
    {
      "cell_type": "code",
      "execution_count": null,
      "id": "3ffb2777-c624-4f4e-b0e4-2daeaaf43b27",
      "metadata": {
        "tags": [],
        "id": "3ffb2777-c624-4f4e-b0e4-2daeaaf43b27"
      },
      "outputs": [],
      "source": [
        "python_students_set = set(python_students)"
      ]
    },
    {
      "cell_type": "code",
      "execution_count": null,
      "id": "69dace73-a022-4e04-afb4-9a30ad5fbf34",
      "metadata": {
        "tags": [],
        "id": "69dace73-a022-4e04-afb4-9a30ad5fbf34"
      },
      "outputs": [],
      "source": [
        "sql_students_set = set(sql_students)"
      ]
    },
    {
      "cell_type": "code",
      "execution_count": null,
      "id": "dc0288da-5814-453d-8259-ddb693cab64f",
      "metadata": {
        "tags": [],
        "id": "dc0288da-5814-453d-8259-ddb693cab64f",
        "outputId": "a8774224-2b62-460d-f4d7-2b24e0affcb0"
      },
      "outputs": [
        {
          "data": {
            "text/plain": [
              "{'Ivan', 'Kim', 'Nikita', 'Petr'}"
            ]
          },
          "execution_count": 97,
          "metadata": {},
          "output_type": "execute_result"
        }
      ],
      "source": [
        "python_students_set"
      ]
    },
    {
      "cell_type": "code",
      "execution_count": null,
      "id": "66e1597b-ab44-4633-8853-8003dfe5d22c",
      "metadata": {
        "tags": [],
        "id": "66e1597b-ab44-4633-8853-8003dfe5d22c",
        "outputId": "52a6b7e4-6429-4687-b2f6-e4db3b939651"
      },
      "outputs": [
        {
          "data": {
            "text/plain": [
              "{'Dima',\n",
              " 'Eva',\n",
              " 'Harry',\n",
              " 'Ignat',\n",
              " 'Ivan',\n",
              " 'Jan',\n",
              " 'Kim',\n",
              " 'Kirill',\n",
              " 'Nikita',\n",
              " 'Pavel',\n",
              " 'Petr'}"
            ]
          },
          "execution_count": 98,
          "metadata": {},
          "output_type": "execute_result"
        }
      ],
      "source": [
        "sql_students_set"
      ]
    },
    {
      "cell_type": "code",
      "execution_count": null,
      "id": "24c70ad8-32e1-4c22-bff9-aca1b45ea26e",
      "metadata": {
        "tags": [],
        "id": "24c70ad8-32e1-4c22-bff9-aca1b45ea26e",
        "outputId": "cbe73531-0019-45b9-d598-320ea023fa8b"
      },
      "outputs": [
        {
          "data": {
            "text/plain": [
              "{'Dima', 'Eva', 'Harry', 'Ignat', 'Jan', 'Kirill', 'Pavel'}"
            ]
          },
          "execution_count": 99,
          "metadata": {},
          "output_type": "execute_result"
        }
      ],
      "source": [
        "sql_students_set.difference(python_students_set) # метод difference наход отличия между двумя множествами"
      ]
    },
    {
      "cell_type": "code",
      "execution_count": null,
      "id": "3625eea4-686c-4e41-ab2b-42e919f327aa",
      "metadata": {
        "tags": [],
        "id": "3625eea4-686c-4e41-ab2b-42e919f327aa",
        "outputId": "a82a93d5-1693-4c61-968d-ad9271b7f13b"
      },
      "outputs": [
        {
          "data": {
            "text/plain": [
              "{'Ivan', 'Kim', 'Nikita', 'Petr'}"
            ]
          },
          "execution_count": 100,
          "metadata": {},
          "output_type": "execute_result"
        }
      ],
      "source": [
        "sql_students_set.intersection(python_students_set) #метод intersectionv находит элементы которые есть в обоих множествах"
      ]
    },
    {
      "cell_type": "markdown",
      "id": "8b61c59e-532f-4134-acc0-a8b8b871fa05",
      "metadata": {
        "id": "8b61c59e-532f-4134-acc0-a8b8b871fa05"
      },
      "source": [
        "##### Методы списков\n",
        "\n",
        "Давайте посмотрим на все методы списка. Не нужно заучивать их наизусть. Но если вы столкнетесь с задачей, в которой надо будет что-нибудь сделать со списком, то перед тем, как пытаться самому придумать решение, посмотрите, может быть есть подходящий метод.\n",
        "\n",
        " * 1. `append()` — добавляет новый элемент в список.\n",
        "\n"
      ]
    },
    {
      "cell_type": "code",
      "execution_count": null,
      "id": "6b1842f4-e0f1-4880-aaaf-7bdc533a5715",
      "metadata": {
        "tags": [],
        "id": "6b1842f4-e0f1-4880-aaaf-7bdc533a5715",
        "outputId": "3618ae67-a23f-40b4-a6b0-fd7e17f4080f"
      },
      "outputs": [
        {
          "name": "stdout",
          "output_type": "stream",
          "text": [
            "[1, 2, 3, 4]\n"
          ]
        }
      ],
      "source": [
        "my_list = [1, 2, 3]\n",
        "my_list.append(4)\n",
        "print(my_list) # [1, 2, 3, 4]"
      ]
    },
    {
      "cell_type": "markdown",
      "id": "c62097d4-ef86-494e-a55f-24338316421d",
      "metadata": {
        "tags": [],
        "id": "c62097d4-ef86-494e-a55f-24338316421d"
      },
      "source": [
        "* 2. `clear()` — удаляет все элементы списка:"
      ]
    },
    {
      "cell_type": "code",
      "execution_count": null,
      "id": "ae9173fb-e405-4e51-bcac-6a6263140d4c",
      "metadata": {
        "tags": [],
        "id": "ae9173fb-e405-4e51-bcac-6a6263140d4c",
        "outputId": "8cc3d252-c473-4e37-d647-ff77c5660f24"
      },
      "outputs": [
        {
          "name": "stdout",
          "output_type": "stream",
          "text": [
            "[]\n"
          ]
        }
      ],
      "source": [
        "my_list = [1, 2, 3]\n",
        "my_list.clear()\n",
        "print(my_list) # []"
      ]
    },
    {
      "cell_type": "markdown",
      "id": "00eb5206-62cd-437c-a966-678790563833",
      "metadata": {
        "id": "00eb5206-62cd-437c-a966-678790563833"
      },
      "source": [
        "* 3. `copy()` — возвращает копию списка:"
      ]
    },
    {
      "cell_type": "code",
      "execution_count": null,
      "id": "b3d1215b-1273-4fd3-8137-36ed759fd6cd",
      "metadata": {
        "tags": [],
        "id": "b3d1215b-1273-4fd3-8137-36ed759fd6cd",
        "outputId": "8781d3d3-aa8d-434f-ffdc-8e63b49541c7"
      },
      "outputs": [
        {
          "name": "stdout",
          "output_type": "stream",
          "text": [
            "[1, 2, 3]\n"
          ]
        }
      ],
      "source": [
        "my_list = [1, 2, 3]\n",
        "new_list = my_list.copy()\n",
        "print(new_list) # [1, 2, 3]"
      ]
    },
    {
      "cell_type": "markdown",
      "id": "d599cbf0-5eb7-4d2e-a52a-d7959a38d72c",
      "metadata": {
        "id": "d599cbf0-5eb7-4d2e-a52a-d7959a38d72c"
      },
      "source": [
        "* 4. `count(item)`  — возвращает количество элементов item в списке:"
      ]
    },
    {
      "cell_type": "code",
      "execution_count": null,
      "id": "6e8f126f-8cd9-4866-a68e-660a23326e22",
      "metadata": {
        "tags": [],
        "id": "6e8f126f-8cd9-4866-a68e-660a23326e22",
        "outputId": "637da1d1-a0fd-467d-cff2-04b48e374e8a"
      },
      "outputs": [
        {
          "name": "stdout",
          "output_type": "stream",
          "text": [
            "3\n"
          ]
        }
      ],
      "source": [
        "my_list = [1, 2, 2, 3, 2]\n",
        "count = my_list.count(2)\n",
        "print(count) # 3"
      ]
    },
    {
      "cell_type": "markdown",
      "id": "54432cb7-2f8f-4d40-b700-caeb36d18a3b",
      "metadata": {
        "id": "54432cb7-2f8f-4d40-b700-caeb36d18a3b"
      },
      "source": [
        "* 5. `extend(iterable)` — добавляет элементы из другого списка в конец списка:"
      ]
    },
    {
      "cell_type": "code",
      "execution_count": null,
      "id": "8a815648-7c79-4369-b0c0-c8bb7d142184",
      "metadata": {
        "tags": [],
        "id": "8a815648-7c79-4369-b0c0-c8bb7d142184",
        "outputId": "71234e43-8272-4dc6-f62f-46f948271404"
      },
      "outputs": [
        {
          "name": "stdout",
          "output_type": "stream",
          "text": [
            "[1, 2, 3, 4, 5]\n"
          ]
        }
      ],
      "source": [
        "my_list = [1, 2, 3]\n",
        "my_list.extend([4, 5])\n",
        "print(my_list) # [1, 2, 3, 4, 5]"
      ]
    },
    {
      "cell_type": "markdown",
      "id": "7da1b025-7086-4386-bb96-df791df4dfcb",
      "metadata": {
        "id": "7da1b025-7086-4386-bb96-df791df4dfcb"
      },
      "source": [
        "* 6. `index(item, start, end)`  — возвращает индекс первого элемента, равного item, в диапазоне от start до end:"
      ]
    },
    {
      "cell_type": "code",
      "execution_count": null,
      "id": "5c73fbe7-06ac-482d-ad8d-e0e402888eab",
      "metadata": {
        "tags": [],
        "id": "5c73fbe7-06ac-482d-ad8d-e0e402888eab",
        "outputId": "44cbf2e7-dfe5-4a89-96ba-dac69b49e771"
      },
      "outputs": [
        {
          "name": "stdout",
          "output_type": "stream",
          "text": [
            "2\n"
          ]
        }
      ],
      "source": [
        "my_list = [1, 2, 2, 3, 2]\n",
        "index = my_list.index(2, 2, 5)\n",
        "print(index) # 2"
      ]
    },
    {
      "cell_type": "markdown",
      "id": "c34adb72-a107-4d4b-9a4d-02f3c2df69d4",
      "metadata": {
        "id": "c34adb72-a107-4d4b-9a4d-02f3c2df69d4"
      },
      "source": [
        "* 7. `insert(index, item)`  — добавляет элемент item на позицию index в списке:"
      ]
    },
    {
      "cell_type": "code",
      "execution_count": null,
      "id": "f6ed9af2-2a04-4d16-b333-c27d3d0df985",
      "metadata": {
        "tags": [],
        "id": "f6ed9af2-2a04-4d16-b333-c27d3d0df985",
        "outputId": "405416b1-6399-40c2-e9ab-a1a81ba28d75"
      },
      "outputs": [
        {
          "name": "stdout",
          "output_type": "stream",
          "text": [
            "[1, 4, 2, 3]\n"
          ]
        }
      ],
      "source": [
        "my_list = [1, 2, 3]\n",
        "my_list.insert(1, 4)\n",
        "print(my_list) # [1, 4, 2, 3]"
      ]
    },
    {
      "cell_type": "markdown",
      "id": "86c6a90a-c372-4a05-8b30-ff8fd36aa0f0",
      "metadata": {
        "tags": [],
        "id": "86c6a90a-c372-4a05-8b30-ff8fd36aa0f0"
      },
      "source": [
        "* 8. `pop(index)` — удаляет и возвращает элемент на позиции index в списке:"
      ]
    },
    {
      "cell_type": "code",
      "execution_count": null,
      "id": "82ffee07-51b9-4aee-90da-9b12bee4193a",
      "metadata": {
        "tags": [],
        "id": "82ffee07-51b9-4aee-90da-9b12bee4193a",
        "outputId": "b55e113d-bbc4-4247-b980-b370c507842c"
      },
      "outputs": [
        {
          "name": "stdout",
          "output_type": "stream",
          "text": [
            "[1, 3]\n",
            "2\n"
          ]
        }
      ],
      "source": [
        "my_list = [1, 2, 3]\n",
        "removed_item = my_list.pop(1)\n",
        "print(my_list) # [1, 3]\n",
        "print(removed_item) # 2"
      ]
    },
    {
      "cell_type": "markdown",
      "id": "6de990cf-6448-44d0-b2c0-8d6b7520ceb7",
      "metadata": {
        "id": "6de990cf-6448-44d0-b2c0-8d6b7520ceb7"
      },
      "source": [
        "* 9. `remove(item)` — удаляет первый элемент, равный item, из списка:"
      ]
    },
    {
      "cell_type": "code",
      "execution_count": null,
      "id": "56b3a43e-78f1-4858-80c4-8f87355dc8b3",
      "metadata": {
        "tags": [],
        "id": "56b3a43e-78f1-4858-80c4-8f87355dc8b3",
        "outputId": "699969dc-4117-4a7f-ab3b-0df057b35466"
      },
      "outputs": [
        {
          "name": "stdout",
          "output_type": "stream",
          "text": [
            "[1, 3, 2]\n"
          ]
        }
      ],
      "source": [
        "my_list = [1, 2, 3, 2]\n",
        "my_list.remove(2)\n",
        "print(my_list) # [1, 3, 2]"
      ]
    },
    {
      "cell_type": "markdown",
      "id": "0188dd91-ba6c-4388-ac5c-5690de194ee6",
      "metadata": {
        "id": "0188dd91-ba6c-4388-ac5c-5690de194ee6"
      },
      "source": [
        "* 10. `reverse()`  — переворачивает порядок следования элементов в списке:"
      ]
    },
    {
      "cell_type": "code",
      "execution_count": null,
      "id": "1a9d55a3-edf4-4f2a-9668-94e8a12ca386",
      "metadata": {
        "tags": [],
        "id": "1a9d55a3-edf4-4f2a-9668-94e8a12ca386",
        "outputId": "6012bee8-47d4-4b0d-d22a-992e9a21a99d"
      },
      "outputs": [
        {
          "name": "stdout",
          "output_type": "stream",
          "text": [
            "[3, 2, 1]\n"
          ]
        }
      ],
      "source": [
        "my_list = [1, 2, 3]\n",
        "my_list.reverse()\n",
        "print(my_list) # [3, 2, 1]"
      ]
    },
    {
      "cell_type": "markdown",
      "id": "85136336-850b-4c56-852a-bbb57a9438db",
      "metadata": {
        "id": "85136336-850b-4c56-852a-bbb57a9438db"
      },
      "source": [
        "* 11. `sort(key, reverse)` — сортирует элементы в списке:"
      ]
    },
    {
      "cell_type": "code",
      "execution_count": null,
      "id": "068c4253-2abc-40b9-901c-2f1f79b3348e",
      "metadata": {
        "tags": [],
        "id": "068c4253-2abc-40b9-901c-2f1f79b3348e",
        "outputId": "eaf26275-530e-402c-e4f4-11b1d587e83e"
      },
      "outputs": [
        {
          "name": "stdout",
          "output_type": "stream",
          "text": [
            "[1, 2, 3]\n",
            "[3, 2, 1]\n"
          ]
        }
      ],
      "source": [
        "my_list = [3, 1, 2]\n",
        "my_list.sort()\n",
        "print(my_list) # [1, 2, 3]\n",
        "my_list.sort(reverse=True)\n",
        "print(my_list) # [3, 2, 1]"
      ]
    },
    {
      "cell_type": "markdown",
      "id": "77ed8dd6-d8e7-4ff1-ae9e-066237aa80be",
      "metadata": {
        "id": "77ed8dd6-d8e7-4ff1-ae9e-066237aa80be"
      },
      "source": [
        "##### Методы множеств"
      ]
    },
    {
      "cell_type": "markdown",
      "id": "b7e0afee-cf87-41cc-bcf6-7cf68c94bf3d",
      "metadata": {
        "id": "b7e0afee-cf87-41cc-bcf6-7cf68c94bf3d"
      },
      "source": [
        "1. `add(element)` — добавляет элемент в множество."
      ]
    },
    {
      "cell_type": "code",
      "execution_count": null,
      "id": "9aa75160-4503-437f-9290-9a235024fb6d",
      "metadata": {
        "tags": [],
        "id": "9aa75160-4503-437f-9290-9a235024fb6d",
        "outputId": "b7e53356-815d-4a4b-9634-3f25c5b97dca"
      },
      "outputs": [
        {
          "name": "stdout",
          "output_type": "stream",
          "text": [
            "{'orange', 'apple', 'banana', 'cherry'}\n"
          ]
        }
      ],
      "source": [
        "fruits = {\"apple\", \"banana\", \"cherry\"}\n",
        "fruits.add(\"orange\")\n",
        "print(fruits)  # выведет {'banana', 'cherry', 'orange', 'apple'}"
      ]
    },
    {
      "cell_type": "markdown",
      "id": "8d6a5773-b42f-4042-8238-ad6a9a4855c2",
      "metadata": {
        "id": "8d6a5773-b42f-4042-8238-ad6a9a4855c2"
      },
      "source": [
        "2. `union()` — объединяет два множества"
      ]
    },
    {
      "cell_type": "code",
      "execution_count": null,
      "id": "79a8a8d7-b399-425a-96af-f9162b6069c7",
      "metadata": {
        "tags": [],
        "id": "79a8a8d7-b399-425a-96af-f9162b6069c7",
        "outputId": "bfa85f45-2e09-40f2-8a78-978bff3a2ea6"
      },
      "outputs": [
        {
          "name": "stdout",
          "output_type": "stream",
          "text": [
            "{1, 2, 3, 4, 5}\n"
          ]
        }
      ],
      "source": [
        "a = {1, 2, 3}\n",
        "b = {3, 4, 5}\n",
        "\n",
        "c = a.union(b)\n",
        "print(c)  # {1, 2, 3, 4, 5}"
      ]
    },
    {
      "cell_type": "markdown",
      "id": "4ee93f08-19c8-448f-9c74-8d7cc0280423",
      "metadata": {
        "tags": [],
        "id": "4ee93f08-19c8-448f-9c74-8d7cc0280423"
      },
      "source": [
        "3. `clear()` — удаляет все элементы из множества."
      ]
    },
    {
      "cell_type": "code",
      "execution_count": null,
      "id": "f2b4c7e4-40d3-4535-a408-9a54f1da8d49",
      "metadata": {
        "tags": [],
        "id": "f2b4c7e4-40d3-4535-a408-9a54f1da8d49",
        "outputId": "278469a2-2f5f-4fbf-e544-3fc94a84d357"
      },
      "outputs": [
        {
          "name": "stdout",
          "output_type": "stream",
          "text": [
            "set()\n"
          ]
        }
      ],
      "source": [
        "fruits = {\"apple\", \"banana\", \"cherry\"}\n",
        "fruits.clear()\n",
        "print(fruits)  # выведет set()"
      ]
    },
    {
      "cell_type": "markdown",
      "id": "ef0254a3-7fc5-4936-bd6e-1a88273ab474",
      "metadata": {
        "tags": [],
        "id": "ef0254a3-7fc5-4936-bd6e-1a88273ab474"
      },
      "source": [
        "4. `copy()` — создает копию множества."
      ]
    },
    {
      "cell_type": "code",
      "execution_count": null,
      "id": "4b6fec6f-bae1-455d-9f04-ad33b3f956e4",
      "metadata": {
        "tags": [],
        "id": "4b6fec6f-bae1-455d-9f04-ad33b3f956e4",
        "outputId": "4df1da1b-47c1-4dfd-c5a0-a82be711230d"
      },
      "outputs": [
        {
          "name": "stdout",
          "output_type": "stream",
          "text": [
            "{'apple', 'banana', 'cherry'}\n"
          ]
        }
      ],
      "source": [
        "fruits = {\"apple\", \"banana\", \"cherry\"}\n",
        "new_fruits = fruits.copy()\n",
        "print(new_fruits)  # выведет {'banana', 'cherry', 'apple'}"
      ]
    },
    {
      "cell_type": "markdown",
      "id": "8746ebb9-a021-4e5f-9798-3daea0d1b964",
      "metadata": {
        "tags": [],
        "id": "8746ebb9-a021-4e5f-9798-3daea0d1b964"
      },
      "source": [
        "5. `difference()` — возвращает разность между двумя множествами."
      ]
    },
    {
      "cell_type": "code",
      "execution_count": null,
      "id": "6df76a5f-606e-4343-8fcd-1389e3945de9",
      "metadata": {
        "tags": [],
        "id": "6df76a5f-606e-4343-8fcd-1389e3945de9",
        "outputId": "d683c555-8390-4ee1-e3e4-ae6dd47ef64e"
      },
      "outputs": [
        {
          "name": "stdout",
          "output_type": "stream",
          "text": [
            "{1, 2, 3}\n"
          ]
        }
      ],
      "source": [
        "set1 = {1, 2, 3, 4, 5}\n",
        "set2 = {4, 5, 6, 7, 8}\n",
        "diff_set1_set2 = set1.difference(set2)\n",
        "print(diff_set1_set2)  # выведет {1, 2, 3}"
      ]
    },
    {
      "cell_type": "markdown",
      "id": "00eded3f-8dc4-41b2-85cc-f7ac790800d7",
      "metadata": {
        "id": "00eded3f-8dc4-41b2-85cc-f7ac790800d7"
      },
      "source": [
        "6. `discard(element)` — удаляет элемент из множества, если он присутствует. Если элемент отсутствует, то никаких ошибок не возникает. Просто ничего не происходит."
      ]
    },
    {
      "cell_type": "code",
      "execution_count": null,
      "id": "eadbed54-01bb-4688-83da-73ebb0c5bb7b",
      "metadata": {
        "tags": [],
        "id": "eadbed54-01bb-4688-83da-73ebb0c5bb7b",
        "outputId": "1b806b8f-645c-4525-ccf8-a340d42f1771"
      },
      "outputs": [
        {
          "name": "stdout",
          "output_type": "stream",
          "text": [
            "{'apple', 'cherry'}\n",
            "{'apple', 'banana', 'cherry'}\n"
          ]
        }
      ],
      "source": [
        "fruits = {\"apple\", \"banana\", \"cherry\"}\n",
        "fruits.discard(\"banana\")\n",
        "print(fruits)  # выведет {'cherry', 'apple'}\n",
        "\n",
        "fruits = {\"apple\", \"banana\", \"cherry\"}\n",
        "fruits.discard(\"aaaaaaaa\")\n",
        "print(fruits)  # выведет {'cherry', 'banana', 'apple'}"
      ]
    },
    {
      "cell_type": "markdown",
      "id": "5da6afb6-d709-4d5f-b468-d3e89725cac7",
      "metadata": {
        "id": "5da6afb6-d709-4d5f-b468-d3e89725cac7"
      },
      "source": [
        "7. `remove(element)` - Этот метод удаляет элемент из множества, если он присутствует. Если элемент отсутствует, то вызывается ошибка KeyError."
      ]
    },
    {
      "cell_type": "code",
      "execution_count": null,
      "id": "da20d157-462d-4933-a842-6e139a72ad69",
      "metadata": {
        "tags": [],
        "id": "da20d157-462d-4933-a842-6e139a72ad69",
        "outputId": "638e3ed6-4d1a-4776-bf43-8ace7c29a030"
      },
      "outputs": [
        {
          "name": "stdout",
          "output_type": "stream",
          "text": [
            "{1, 3}\n"
          ]
        }
      ],
      "source": [
        "my_set = {1, 2, 3}\n",
        "my_set.remove(2)\n",
        "print(my_set)  # Output: {1, 3}\n",
        "my_set.remove(1)  # Вызовет ошибку KeyError, так как элемент 5 отсутствует"
      ]
    },
    {
      "cell_type": "markdown",
      "id": "09381521-e3b6-4d1b-ae8f-187a8395e5fe",
      "metadata": {
        "id": "09381521-e3b6-4d1b-ae8f-187a8395e5fe"
      },
      "source": [
        "8. `intersection()` — возвращает пересечение двух множеств."
      ]
    },
    {
      "cell_type": "code",
      "execution_count": null,
      "id": "dfd57c1b-cb0f-4145-b5e2-f0938d16faee",
      "metadata": {
        "tags": [],
        "id": "dfd57c1b-cb0f-4145-b5e2-f0938d16faee",
        "outputId": "d7009e5d-29e2-4498-d826-02ee043b17f5"
      },
      "outputs": [
        {
          "name": "stdout",
          "output_type": "stream",
          "text": [
            "{4, 5}\n"
          ]
        }
      ],
      "source": [
        "set1 = {1, 2, 3, 4, 5}\n",
        "set2 = {4, 5, 6, 7, 8}\n",
        "intersection_set = set1.intersection(set2)\n",
        "print(intersection_set)  # выведет {4, 5}"
      ]
    },
    {
      "cell_type": "markdown",
      "id": "b7f52de6-72c0-4274-9a1f-f0748952cb69",
      "metadata": {
        "tags": [],
        "id": "b7f52de6-72c0-4274-9a1f-f0748952cb69"
      },
      "source": [
        "9. `isdisjoint()` — возвращает True, если два множества не имеют общих элементов."
      ]
    },
    {
      "cell_type": "code",
      "execution_count": null,
      "id": "caf1e565-e30c-4860-90fe-0888d9bf793b",
      "metadata": {
        "tags": [],
        "id": "caf1e565-e30c-4860-90fe-0888d9bf793b",
        "outputId": "aed45e56-004e-47af-9c1b-574473805e5b"
      },
      "outputs": [
        {
          "name": "stdout",
          "output_type": "stream",
          "text": [
            "True\n"
          ]
        }
      ],
      "source": [
        "set1 = {1, 2, 3}\n",
        "set2 = {4, 5, 6}\n",
        "disjoint_sets = set1.isdisjoint(set2)\n",
        "print(disjoint_sets)  # выведет True"
      ]
    },
    {
      "cell_type": "markdown",
      "id": "10e6d6b4-9f21-41dc-ab6e-c46c5e9b15af",
      "metadata": {
        "id": "10e6d6b4-9f21-41dc-ab6e-c46c5e9b15af"
      },
      "source": [
        "10. `issubset()` — возвращает True, если одно множество является подмножеством друг"
      ]
    },
    {
      "cell_type": "code",
      "execution_count": null,
      "id": "11ca6594-e874-4c4d-91a8-c1eedead4418",
      "metadata": {
        "tags": [],
        "id": "11ca6594-e874-4c4d-91a8-c1eedead4418",
        "outputId": "55be1f8f-e037-4a59-dd26-e3e36afcbd6d"
      },
      "outputs": [
        {
          "name": "stdout",
          "output_type": "stream",
          "text": [
            "True\n"
          ]
        }
      ],
      "source": [
        "set1 = {1, 2, 3, 4, 5}\n",
        "set2 = {1, 2, 3}\n",
        "\n",
        "result = set2.issubset(set1)\n",
        "print(result) # выведет True"
      ]
    },
    {
      "cell_type": "markdown",
      "id": "872c00d8-92ea-4a61-ac12-451ad975680b",
      "metadata": {
        "id": "872c00d8-92ea-4a61-ac12-451ad975680b"
      },
      "source": [
        "#### Полезные функции"
      ]
    },
    {
      "cell_type": "markdown",
      "id": "e8f0e1d4-9e43-4ce0-b1ff-17f408a5730a",
      "metadata": {
        "id": "e8f0e1d4-9e43-4ce0-b1ff-17f408a5730a"
      },
      "source": [
        "`len` — функция, которая возвращает количество элементов в последовательности:"
      ]
    },
    {
      "cell_type": "code",
      "execution_count": null,
      "id": "93d688f1-9159-4de8-83a0-21705dec314e",
      "metadata": {
        "tags": [],
        "id": "93d688f1-9159-4de8-83a0-21705dec314e",
        "outputId": "c61301e8-d1e6-47a9-abf5-3243a0c56bd4"
      },
      "outputs": [
        {
          "name": "stdout",
          "output_type": "stream",
          "text": [
            "5\n",
            "2\n"
          ]
        }
      ],
      "source": [
        "my_list = [1, 2, 3, 4, 5]\n",
        "print(len(my_list))  # выведет 5\n",
        "\n",
        "my_set = {1, 1, 2, 2}\n",
        "print(len(my_set))  # выведет 2"
      ]
    },
    {
      "cell_type": "markdown",
      "id": "39317571-9ad0-4b1f-900c-e3318128c2a3",
      "metadata": {
        "tags": [],
        "id": "39317571-9ad0-4b1f-900c-e3318128c2a3"
      },
      "source": [
        "`max` — функция, которая возвращает максимальное значение из последовательности. Например:"
      ]
    },
    {
      "cell_type": "code",
      "execution_count": null,
      "id": "b3f8e760-1bef-4d77-af20-139c774058c7",
      "metadata": {
        "tags": [],
        "id": "b3f8e760-1bef-4d77-af20-139c774058c7",
        "outputId": "04403118-adac-4e23-f041-7e8369800e18"
      },
      "outputs": [
        {
          "name": "stdout",
          "output_type": "stream",
          "text": [
            "9\n",
            "9\n"
          ]
        }
      ],
      "source": [
        "my_list = [5, 2, 8, 1, 9]\n",
        "print(max(my_list))  # выведет 9\n",
        "\n",
        "my_set = {5, 2, 8, 1, 9}\n",
        "print(max(my_set))  # тоже выведет 9"
      ]
    },
    {
      "cell_type": "markdown",
      "id": "4d66c3f6-a2c6-4e04-a2b2-d5c477253183",
      "metadata": {
        "id": "4d66c3f6-a2c6-4e04-a2b2-d5c477253183"
      },
      "source": [
        "`min` — функция, которая возвращает минимальное значение из последовательности. Например:"
      ]
    },
    {
      "cell_type": "code",
      "execution_count": null,
      "id": "d42d45ee-dd60-41d4-9ca0-66b2f8819f74",
      "metadata": {
        "tags": [],
        "id": "d42d45ee-dd60-41d4-9ca0-66b2f8819f74",
        "outputId": "a4014660-cceb-441f-ebc1-3db3a736f6f3"
      },
      "outputs": [
        {
          "name": "stdout",
          "output_type": "stream",
          "text": [
            "1\n",
            "1\n"
          ]
        }
      ],
      "source": [
        "my_list = [5, 2, 8, 1, 9]\n",
        "print(min(my_list))  # выведет 1\n",
        "\n",
        "my_set = {5, 2, 8, 1, 9}\n",
        "print(min(my_set))  # тоже выведет 1"
      ]
    },
    {
      "cell_type": "markdown",
      "id": "7373e449-4ccc-4701-9508-b351b43912cf",
      "metadata": {
        "tags": [],
        "id": "7373e449-4ccc-4701-9508-b351b43912cf"
      },
      "source": [
        "`sorted` — функция, которая сортирует последовательность. Она может принимать параметр `reverse=True`, чтобы отсортировать последовательность в обратном порядке (по убыванию). Например:"
      ]
    },
    {
      "cell_type": "code",
      "execution_count": null,
      "id": "da349118-44d8-4c7f-ba15-26e9afd6d568",
      "metadata": {
        "tags": [],
        "id": "da349118-44d8-4c7f-ba15-26e9afd6d568",
        "outputId": "8bd74d60-6100-44d1-e457-664d77607a99"
      },
      "outputs": [
        {
          "name": "stdout",
          "output_type": "stream",
          "text": [
            "[1, 2, 5, 8, 9]\n",
            "[9, 8, 5, 2, 1]\n",
            "[1, 2]\n"
          ]
        }
      ],
      "source": [
        "my_list = [5, 2, 8, 1, 9]\n",
        "sorted_list = sorted(my_list)\n",
        "print(sorted_list)  # выведет [1, 2, 5, 8, 9]\n",
        "sorted_list_descending = sorted(my_list, reverse=True)\n",
        "print(sorted_list_descending)  # выведет [9, 8, 5, 2, 1]\n",
        "\n",
        "# А вот если отсортировать множество, то получится список!\n",
        "\n",
        "my_set = {1, 1, 2, 2}\n",
        "print(sorted(my_set)) # выведет [1, 2]"
      ]
    },
    {
      "cell_type": "markdown",
      "id": "f0e3d47d-6093-4b3e-953b-e8708d9b818f",
      "metadata": {
        "id": "f0e3d47d-6093-4b3e-953b-e8708d9b818f"
      },
      "source": [
        "##### Задача"
      ]
    },
    {
      "cell_type": "code",
      "execution_count": null,
      "id": "5019e8ad-348c-4d59-a9c4-80f4693329e3",
      "metadata": {
        "tags": [],
        "id": "5019e8ad-348c-4d59-a9c4-80f4693329e3",
        "outputId": "f320eda3-95d1-4734-b4e3-2b0f1bf1cc82"
      },
      "outputs": [
        {
          "data": {
            "text/plain": [
              "1"
            ]
          },
          "execution_count": 126,
          "metadata": {},
          "output_type": "execute_result"
        }
      ],
      "source": [
        "my_list = [1,2,3,4,5]\n",
        "\n",
        "my_list[0] # первый элемент списка"
      ]
    },
    {
      "cell_type": "code",
      "execution_count": null,
      "id": "4c9562a6-a61d-431b-85fd-f414798935d1",
      "metadata": {
        "tags": [],
        "id": "4c9562a6-a61d-431b-85fd-f414798935d1",
        "outputId": "15ccf4cf-bb2f-4d3c-82c0-ebedc0739c30"
      },
      "outputs": [
        {
          "data": {
            "text/plain": [
              "2"
            ]
          },
          "execution_count": 127,
          "metadata": {},
          "output_type": "execute_result"
        }
      ],
      "source": [
        "my_list[1] # второй элемент списка"
      ]
    },
    {
      "cell_type": "markdown",
      "id": "f4043899-7887-4ef4-b627-fce33133bd95",
      "metadata": {
        "id": "f4043899-7887-4ef4-b627-fce33133bd95"
      },
      "source": [
        "`my_list[START:STOP:STEP]` **срез от START до STOP с шагом STEP**"
      ]
    },
    {
      "cell_type": "markdown",
      "id": "7fbab512-c237-4845-9c98-16e42a15b43c",
      "metadata": {
        "id": "7fbab512-c237-4845-9c98-16e42a15b43c"
      },
      "source": [
        "**Задание:**\n",
        "\n",
        "* В my_list сохранен список как минимум с двумя элементами.\n",
        "* В переменную first_item сохраните первый элемент списка.\n",
        "* В переменную last_item сохраните последний элемент списка.\n",
        "* В переменную reversed_list сохраните все элементы списка my_list в обратном порядке.\n",
        "* В переменную even_items сохраните все элементы my_list с четными индексами.\n",
        "  \n",
        "  Примеры:"
      ]
    },
    {
      "cell_type": "code",
      "execution_count": null,
      "id": "bc24fcda-9ba2-4a98-8fb7-953dc8fb5984",
      "metadata": {
        "tags": [],
        "id": "bc24fcda-9ba2-4a98-8fb7-953dc8fb5984"
      },
      "outputs": [],
      "source": [
        "my_list = ['Anatoly', 'Fedor', 1, 2, 3]\n",
        "\n",
        "first_item = 'Anatoly'\n",
        "last_item = 3\n",
        "reversed_my_list = [3, 2, 1, 'Fedor', 'Anatoly']\n",
        "even_items = ['Anatoly', 1, 3]"
      ]
    },
    {
      "cell_type": "code",
      "execution_count": null,
      "id": "48af9d89-348e-47a2-965d-9671905dc6d6",
      "metadata": {
        "tags": [],
        "id": "48af9d89-348e-47a2-965d-9671905dc6d6"
      },
      "outputs": [],
      "source": [
        "# Мое выполнение\n",
        "\n",
        "my_list = [1,2,\"Ivan\",\"Den\",\"Anna\"] #создаем список с минимум 2 элементами списка\n",
        "first_item = 1 #сохраняем первый элемент списка\n",
        "last_item = \"Anna\" #сохраняем последний элемент списка\n",
        "reversed_list = [\"Anna\",\"Den\",\"Ivan\",2,1] #разворачиваем список\n",
        "even_items = [1,\"Ivan\",\"Anna\"] #сохраняем список только с четными индексами"
      ]
    },
    {
      "cell_type": "code",
      "execution_count": null,
      "id": "3e30c375-86e5-4bdf-b765-1b151edc3d0a",
      "metadata": {
        "tags": [],
        "id": "3e30c375-86e5-4bdf-b765-1b151edc3d0a",
        "outputId": "cf579b05-d2ee-4f00-eb33-1f2976ef9b93"
      },
      "outputs": [
        {
          "data": {
            "text/plain": [
              "[1, 2, 'Ivan', 'Den', 'Anna']"
            ]
          },
          "execution_count": 130,
          "metadata": {},
          "output_type": "execute_result"
        }
      ],
      "source": [
        "my_list"
      ]
    },
    {
      "cell_type": "code",
      "execution_count": null,
      "id": "8ee77ed4-a3a9-461c-b951-64cace6fc811",
      "metadata": {
        "tags": [],
        "id": "8ee77ed4-a3a9-461c-b951-64cace6fc811",
        "outputId": "0e7dd973-ce2c-4efc-9c5d-af2f1fe81782"
      },
      "outputs": [
        {
          "data": {
            "text/plain": [
              "1"
            ]
          },
          "execution_count": 131,
          "metadata": {},
          "output_type": "execute_result"
        }
      ],
      "source": [
        "first_item"
      ]
    },
    {
      "cell_type": "code",
      "execution_count": null,
      "id": "baba3e83-7c4b-40d4-a5fb-127ff9a5f56f",
      "metadata": {
        "tags": [],
        "id": "baba3e83-7c4b-40d4-a5fb-127ff9a5f56f",
        "outputId": "13aaccba-66fe-4d5c-859f-05c9e6e4f5b1"
      },
      "outputs": [
        {
          "data": {
            "text/plain": [
              "'Anna'"
            ]
          },
          "execution_count": 132,
          "metadata": {},
          "output_type": "execute_result"
        }
      ],
      "source": [
        "last_item"
      ]
    },
    {
      "cell_type": "code",
      "execution_count": null,
      "id": "fb8b31ad-3ad2-45ef-bf5a-e0d6f637e249",
      "metadata": {
        "tags": [],
        "id": "fb8b31ad-3ad2-45ef-bf5a-e0d6f637e249",
        "outputId": "e146e8b3-3ac3-430e-ec5e-6123974e01d1"
      },
      "outputs": [
        {
          "data": {
            "text/plain": [
              "['Anna', 'Den', 'Ivan', 2, 1]"
            ]
          },
          "execution_count": 133,
          "metadata": {},
          "output_type": "execute_result"
        }
      ],
      "source": [
        "reversed_list"
      ]
    },
    {
      "cell_type": "code",
      "execution_count": null,
      "id": "8bb9b5ce-112d-4f33-b225-3f474da6d233",
      "metadata": {
        "tags": [],
        "id": "8bb9b5ce-112d-4f33-b225-3f474da6d233",
        "outputId": "9a93ccb1-20d5-48b6-c69d-17b6b92ee10a"
      },
      "outputs": [
        {
          "data": {
            "text/plain": [
              "[1, 'Ivan', 'Anna']"
            ]
          },
          "execution_count": 134,
          "metadata": {},
          "output_type": "execute_result"
        }
      ],
      "source": [
        "even_items"
      ]
    },
    {
      "cell_type": "code",
      "execution_count": null,
      "id": "563cb2a3-d6ed-42fc-b411-d152feb6a4a0",
      "metadata": {
        "tags": [],
        "id": "563cb2a3-d6ed-42fc-b411-d152feb6a4a0"
      },
      "outputs": [],
      "source": [
        "my_list = [1, 2, 3, 4, 5]\n",
        "\n",
        "first_item = my_list[0]\n",
        "last_item = max(my_list)\n",
        "even_items = my_list[0:6:2]\n",
        "my_list.reverse()\n",
        "reversed_list = my_list"
      ]
    },
    {
      "cell_type": "code",
      "execution_count": null,
      "id": "d823db1b-e179-4b43-bd8d-1f4ee6da55ce",
      "metadata": {
        "tags": [],
        "id": "d823db1b-e179-4b43-bd8d-1f4ee6da55ce",
        "outputId": "3a616942-a238-46f9-8757-019639893436"
      },
      "outputs": [
        {
          "data": {
            "text/plain": [
              "[5, 4, 3, 2, 1]"
            ]
          },
          "execution_count": 142,
          "metadata": {},
          "output_type": "execute_result"
        }
      ],
      "source": [
        "my_list"
      ]
    },
    {
      "cell_type": "code",
      "execution_count": null,
      "id": "5908ece6-e4bd-47d0-9862-7b51ead2a9df",
      "metadata": {
        "tags": [],
        "id": "5908ece6-e4bd-47d0-9862-7b51ead2a9df",
        "outputId": "42d45260-8577-44db-fcde-0f41eb88ba25"
      },
      "outputs": [
        {
          "data": {
            "text/plain": [
              "1"
            ]
          },
          "execution_count": 143,
          "metadata": {},
          "output_type": "execute_result"
        }
      ],
      "source": [
        "first_item"
      ]
    },
    {
      "cell_type": "code",
      "execution_count": null,
      "id": "5269aca0-999e-4434-98a1-8e42478a752d",
      "metadata": {
        "tags": [],
        "id": "5269aca0-999e-4434-98a1-8e42478a752d",
        "outputId": "39aae790-0912-4b04-ccd3-610f4ae586be"
      },
      "outputs": [
        {
          "data": {
            "text/plain": [
              "5"
            ]
          },
          "execution_count": 144,
          "metadata": {},
          "output_type": "execute_result"
        }
      ],
      "source": [
        "last_item"
      ]
    },
    {
      "cell_type": "code",
      "execution_count": null,
      "id": "7bf524ee-1524-4d4f-8857-854748fd5552",
      "metadata": {
        "tags": [],
        "id": "7bf524ee-1524-4d4f-8857-854748fd5552",
        "outputId": "0c403de8-4d96-40dd-e256-9f5e2d66be02"
      },
      "outputs": [
        {
          "data": {
            "text/plain": [
              "[5, 4, 3, 2, 1]"
            ]
          },
          "execution_count": 145,
          "metadata": {},
          "output_type": "execute_result"
        }
      ],
      "source": [
        "reversed_list"
      ]
    },
    {
      "cell_type": "code",
      "execution_count": null,
      "id": "7f1457af-d473-4b46-812c-ff7c6a76b38b",
      "metadata": {
        "tags": [],
        "id": "7f1457af-d473-4b46-812c-ff7c6a76b38b",
        "outputId": "8e24264e-5692-484e-f0eb-c9eacb9f1674"
      },
      "outputs": [
        {
          "data": {
            "text/plain": [
              "[1, 3, 5]"
            ]
          },
          "execution_count": 146,
          "metadata": {},
          "output_type": "execute_result"
        }
      ],
      "source": [
        "even_items"
      ]
    },
    {
      "cell_type": "code",
      "execution_count": 2,
      "id": "775b8fd7-cb36-434f-adc5-fe4355e7cc33",
      "metadata": {
        "colab": {
          "base_uri": "https://localhost:8080/"
        },
        "id": "775b8fd7-cb36-434f-adc5-fe4355e7cc33",
        "outputId": "35f5fa42-fdd6-4358-817e-598454270cfe"
      },
      "outputs": [
        {
          "output_type": "stream",
          "name": "stdout",
          "text": [
            "Изменения в Git\n"
          ]
        }
      ],
      "source": [
        "print(\"Изменения в Git\")"
      ]
    }
  ],
  "metadata": {
    "kernelspec": {
      "display_name": "Python 3 (ipykernel)",
      "language": "python",
      "name": "python3"
    },
    "language_info": {
      "codemirror_mode": {
        "name": "ipython",
        "version": 3
      },
      "file_extension": ".py",
      "mimetype": "text/x-python",
      "name": "python",
      "nbconvert_exporter": "python",
      "pygments_lexer": "ipython3",
      "version": "3.12.0"
    },
    "toc-autonumbering": false,
    "toc-showmarkdowntxt": false,
    "colab": {
      "provenance": [],
      "toc_visible": true,
      "include_colab_link": true
    }
  },
  "nbformat": 4,
  "nbformat_minor": 5
}